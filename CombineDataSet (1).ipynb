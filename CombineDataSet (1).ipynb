{
  "nbformat": 4,
  "nbformat_minor": 0,
  "metadata": {
    "colab": {
      "name": "CombineDataSet.ipynb",
      "provenance": []
    },
    "kernelspec": {
      "name": "python3",
      "display_name": "Python 3"
    },
    "language_info": {
      "name": "python"
    }
  },
  "cells": [
    {
      "cell_type": "code",
      "metadata": {
        "id": "H7FSjPWhPL8y"
      },
      "source": [
        "import pandas as pd"
      ],
      "execution_count": null,
      "outputs": []
    },
    {
      "cell_type": "code",
      "metadata": {
        "colab": {
          "base_uri": "https://localhost:8080/"
        },
        "id": "duPwnylrUe3B",
        "outputId": "6c7a2be8-6ec2-474b-c785-b3fbc39d6ae1"
      },
      "source": [
        "from google.colab import drive\n",
        "drive.mount('/content/drive')"
      ],
      "execution_count": null,
      "outputs": [
        {
          "output_type": "stream",
          "name": "stdout",
          "text": [
            "Mounted at /content/drive\n"
          ]
        }
      ]
    },
    {
      "cell_type": "code",
      "metadata": {
        "colab": {
          "base_uri": "https://localhost:8080/"
        },
        "id": "nTb16g-qUshi",
        "outputId": "ea8bb3bd-7ebe-4f33-c262-f6a72bd5becc"
      },
      "source": [
        "# Importing the datasets\n",
        "IMdB_df = pd.read_csv('/content/drive/MyDrive/Datasests/Xethon/IMDB Dataset.csv')\n",
        "Amazon_df1 = pd.read_csv('/content/drive/MyDrive/Datasests/Xethon/1429_1.csv')\n",
        "Amazon_df2 = pd.read_csv('/content/drive/MyDrive/Datasests/Xethon/Datafiniti_Amazon_Consumer_Reviews_of_Amazon_Products.csv')\n",
        "Amazon_df3 = pd.read_csv('/content/drive/MyDrive/Datasests/Xethon/Datafiniti_Amazon_Consumer_Reviews_of_Amazon_Products_May19.csv')"
      ],
      "execution_count": null,
      "outputs": [
        {
          "output_type": "stream",
          "name": "stderr",
          "text": [
            "/usr/local/lib/python3.7/dist-packages/IPython/core/interactiveshell.py:2718: DtypeWarning: Columns (1,10) have mixed types.Specify dtype option on import or set low_memory=False.\n",
            "  interactivity=interactivity, compiler=compiler, result=result)\n"
          ]
        }
      ]
    },
    {
      "cell_type": "code",
      "metadata": {
        "id": "fSRkO4VUYCug"
      },
      "source": [
        "# Considering only the reviews and ratings columns from amazon datasest\n",
        "df1 = Amazon_df1[['reviews.text','reviews.rating']]\n",
        "df2 = Amazon_df2[['reviews.text','reviews.rating']]\n",
        "df3 = Amazon_df3[['reviews.text','reviews.rating']]"
      ],
      "execution_count": null,
      "outputs": []
    },
    {
      "cell_type": "code",
      "metadata": {
        "colab": {
          "base_uri": "https://localhost:8080/"
        },
        "id": "xVHhfQelZxli",
        "outputId": "f84bf52a-b75f-449c-c2aa-de3fdd0be6dd"
      },
      "source": [
        "# Merging df1, df2, df3 into a single Amazon dataset\n",
        "Amazon_df = pd.concat([df1, df2, df3], axis=0)\n",
        "Amazon_df.shape[0]"
      ],
      "execution_count": null,
      "outputs": [
        {
          "output_type": "execute_result",
          "data": {
            "text/plain": [
              "67992"
            ]
          },
          "metadata": {},
          "execution_count": 5
        }
      ]
    },
    {
      "cell_type": "code",
      "metadata": {
        "id": "Muxc1wQFfsXh"
      },
      "source": [
        "# As per the findings 1438+1072+2902 = 5412 negative reviews are only there"
      ],
      "execution_count": null,
      "outputs": []
    },
    {
      "cell_type": "code",
      "metadata": {
        "colab": {
          "base_uri": "https://localhost:8080/",
          "height": 204
        },
        "id": "hYpXO-zSpe3D",
        "outputId": "b0f74c9d-3647-487e-dee8-52957d40cf76"
      },
      "source": [
        "Amazon_df.head()"
      ],
      "execution_count": null,
      "outputs": [
        {
          "output_type": "execute_result",
          "data": {
            "text/html": [
              "<div>\n",
              "<style scoped>\n",
              "    .dataframe tbody tr th:only-of-type {\n",
              "        vertical-align: middle;\n",
              "    }\n",
              "\n",
              "    .dataframe tbody tr th {\n",
              "        vertical-align: top;\n",
              "    }\n",
              "\n",
              "    .dataframe thead th {\n",
              "        text-align: right;\n",
              "    }\n",
              "</style>\n",
              "<table border=\"1\" class=\"dataframe\">\n",
              "  <thead>\n",
              "    <tr style=\"text-align: right;\">\n",
              "      <th></th>\n",
              "      <th>reviews.text</th>\n",
              "      <th>reviews.rating</th>\n",
              "    </tr>\n",
              "  </thead>\n",
              "  <tbody>\n",
              "    <tr>\n",
              "      <th>0</th>\n",
              "      <td>This product so far has not disappointed. My c...</td>\n",
              "      <td>5.0</td>\n",
              "    </tr>\n",
              "    <tr>\n",
              "      <th>1</th>\n",
              "      <td>great for beginner or experienced person. Boug...</td>\n",
              "      <td>5.0</td>\n",
              "    </tr>\n",
              "    <tr>\n",
              "      <th>2</th>\n",
              "      <td>Inexpensive tablet for him to use and learn on...</td>\n",
              "      <td>5.0</td>\n",
              "    </tr>\n",
              "    <tr>\n",
              "      <th>3</th>\n",
              "      <td>I've had my Fire HD 8 two weeks now and I love...</td>\n",
              "      <td>4.0</td>\n",
              "    </tr>\n",
              "    <tr>\n",
              "      <th>4</th>\n",
              "      <td>I bought this for my grand daughter when she c...</td>\n",
              "      <td>5.0</td>\n",
              "    </tr>\n",
              "  </tbody>\n",
              "</table>\n",
              "</div>"
            ],
            "text/plain": [
              "                                        reviews.text  reviews.rating\n",
              "0  This product so far has not disappointed. My c...             5.0\n",
              "1  great for beginner or experienced person. Boug...             5.0\n",
              "2  Inexpensive tablet for him to use and learn on...             5.0\n",
              "3  I've had my Fire HD 8 two weeks now and I love...             4.0\n",
              "4  I bought this for my grand daughter when she c...             5.0"
            ]
          },
          "metadata": {},
          "execution_count": 6
        }
      ]
    },
    {
      "cell_type": "code",
      "metadata": {
        "id": "Hpf80i06pPeb"
      },
      "source": [
        "# changing the column names\n",
        "Amazon_df = Amazon_df.rename({'reviews.text': 'text', 'reviews.rating': 'ratings'}, axis=1)"
      ],
      "execution_count": null,
      "outputs": []
    },
    {
      "cell_type": "code",
      "metadata": {
        "id": "C4tkln50X_pp"
      },
      "source": [
        "# converting the ratings to positive and negative \n",
        "# Ratings 1,2,3 = negative\n",
        "# Ratings 4,5 = positive\n",
        "sentimentals = []\n",
        "sentlist = [1,2,3]\n",
        "for i in Amazon_df['ratings']:\n",
        "    if i in sentlist:\n",
        "        sentimentals.append(\"negative\")\n",
        "    else:\n",
        "        sentimentals.append(\"positive\")\n",
        "Amazon_df = pd.DataFrame({'review':Amazon_df['text'], 'sentiment':sentimentals})"
      ],
      "execution_count": null,
      "outputs": []
    },
    {
      "cell_type": "code",
      "metadata": {
        "colab": {
          "base_uri": "https://localhost:8080/"
        },
        "id": "px5LOVvhjskM",
        "outputId": "0deed8ab-764f-455b-f846-4934dacdb727"
      },
      "source": [
        "Amazon_df.shape"
      ],
      "execution_count": null,
      "outputs": [
        {
          "output_type": "execute_result",
          "data": {
            "text/plain": [
              "(67992, 2)"
            ]
          },
          "metadata": {},
          "execution_count": 9
        }
      ]
    },
    {
      "cell_type": "code",
      "metadata": {
        "colab": {
          "base_uri": "https://localhost:8080/",
          "height": 204
        },
        "id": "KI_4pdrqqAZ0",
        "outputId": "1e10b48a-8c80-4802-85d4-00f94c6f1f59"
      },
      "source": [
        "# getting only the negative values\n",
        "Amazon_neg = Amazon_df.loc[Amazon_df['sentiment']=='negative']\n",
        "Amazon_neg.head()"
      ],
      "execution_count": null,
      "outputs": [
        {
          "output_type": "execute_result",
          "data": {
            "text/html": [
              "<div>\n",
              "<style scoped>\n",
              "    .dataframe tbody tr th:only-of-type {\n",
              "        vertical-align: middle;\n",
              "    }\n",
              "\n",
              "    .dataframe tbody tr th {\n",
              "        vertical-align: top;\n",
              "    }\n",
              "\n",
              "    .dataframe thead th {\n",
              "        text-align: right;\n",
              "    }\n",
              "</style>\n",
              "<table border=\"1\" class=\"dataframe\">\n",
              "  <thead>\n",
              "    <tr style=\"text-align: right;\">\n",
              "      <th></th>\n",
              "      <th>review</th>\n",
              "      <th>sentiment</th>\n",
              "    </tr>\n",
              "  </thead>\n",
              "  <tbody>\n",
              "    <tr>\n",
              "      <th>117</th>\n",
              "      <td>Didn't have some of the features I was looking...</td>\n",
              "      <td>negative</td>\n",
              "    </tr>\n",
              "    <tr>\n",
              "      <th>126</th>\n",
              "      <td>i Bought this around black friday for $60 hopi...</td>\n",
              "      <td>negative</td>\n",
              "    </tr>\n",
              "    <tr>\n",
              "      <th>169</th>\n",
              "      <td>I bought this tablet for my 4 year old daughte...</td>\n",
              "      <td>negative</td>\n",
              "    </tr>\n",
              "    <tr>\n",
              "      <th>222</th>\n",
              "      <td>I was hoping to use Google launcher with this ...</td>\n",
              "      <td>negative</td>\n",
              "    </tr>\n",
              "    <tr>\n",
              "      <th>226</th>\n",
              "      <td>The tablet works fine. It is responsive with g...</td>\n",
              "      <td>negative</td>\n",
              "    </tr>\n",
              "  </tbody>\n",
              "</table>\n",
              "</div>"
            ],
            "text/plain": [
              "                                                review sentiment\n",
              "117  Didn't have some of the features I was looking...  negative\n",
              "126  i Bought this around black friday for $60 hopi...  negative\n",
              "169  I bought this tablet for my 4 year old daughte...  negative\n",
              "222  I was hoping to use Google launcher with this ...  negative\n",
              "226  The tablet works fine. It is responsive with g...  negative"
            ]
          },
          "metadata": {},
          "execution_count": 10
        }
      ]
    },
    {
      "cell_type": "code",
      "metadata": {
        "colab": {
          "base_uri": "https://localhost:8080/"
        },
        "id": "73hZrvUdqUis",
        "outputId": "a321b789-1434-4457-9846-6b9aa42de7f1"
      },
      "source": [
        "# count of negative \n",
        "Amazon_neg.shape"
      ],
      "execution_count": null,
      "outputs": [
        {
          "output_type": "execute_result",
          "data": {
            "text/plain": [
              "(5412, 2)"
            ]
          },
          "metadata": {},
          "execution_count": 11
        }
      ]
    },
    {
      "cell_type": "code",
      "metadata": {
        "colab": {
          "base_uri": "https://localhost:8080/",
          "height": 204
        },
        "id": "gTC5hPxSqtXj",
        "outputId": "7c899304-2b41-42fc-aa96-01f389060f4e"
      },
      "source": [
        "# getting only the positive values\n",
        "Amazon_pos = Amazon_df.loc[Amazon_df['sentiment']=='positive']\n",
        "Amazon_pos.head()"
      ],
      "execution_count": null,
      "outputs": [
        {
          "output_type": "execute_result",
          "data": {
            "text/html": [
              "<div>\n",
              "<style scoped>\n",
              "    .dataframe tbody tr th:only-of-type {\n",
              "        vertical-align: middle;\n",
              "    }\n",
              "\n",
              "    .dataframe tbody tr th {\n",
              "        vertical-align: top;\n",
              "    }\n",
              "\n",
              "    .dataframe thead th {\n",
              "        text-align: right;\n",
              "    }\n",
              "</style>\n",
              "<table border=\"1\" class=\"dataframe\">\n",
              "  <thead>\n",
              "    <tr style=\"text-align: right;\">\n",
              "      <th></th>\n",
              "      <th>review</th>\n",
              "      <th>sentiment</th>\n",
              "    </tr>\n",
              "  </thead>\n",
              "  <tbody>\n",
              "    <tr>\n",
              "      <th>0</th>\n",
              "      <td>This product so far has not disappointed. My c...</td>\n",
              "      <td>positive</td>\n",
              "    </tr>\n",
              "    <tr>\n",
              "      <th>1</th>\n",
              "      <td>great for beginner or experienced person. Boug...</td>\n",
              "      <td>positive</td>\n",
              "    </tr>\n",
              "    <tr>\n",
              "      <th>2</th>\n",
              "      <td>Inexpensive tablet for him to use and learn on...</td>\n",
              "      <td>positive</td>\n",
              "    </tr>\n",
              "    <tr>\n",
              "      <th>3</th>\n",
              "      <td>I've had my Fire HD 8 two weeks now and I love...</td>\n",
              "      <td>positive</td>\n",
              "    </tr>\n",
              "    <tr>\n",
              "      <th>4</th>\n",
              "      <td>I bought this for my grand daughter when she c...</td>\n",
              "      <td>positive</td>\n",
              "    </tr>\n",
              "  </tbody>\n",
              "</table>\n",
              "</div>"
            ],
            "text/plain": [
              "                                              review sentiment\n",
              "0  This product so far has not disappointed. My c...  positive\n",
              "1  great for beginner or experienced person. Boug...  positive\n",
              "2  Inexpensive tablet for him to use and learn on...  positive\n",
              "3  I've had my Fire HD 8 two weeks now and I love...  positive\n",
              "4  I bought this for my grand daughter when she c...  positive"
            ]
          },
          "metadata": {},
          "execution_count": 12
        }
      ]
    },
    {
      "cell_type": "code",
      "metadata": {
        "id": "P_sTgNeaq_kL"
      },
      "source": [
        "# considering 5k positive values\n",
        "Amazon_pos = Amazon_pos.head(5412)\n"
      ],
      "execution_count": null,
      "outputs": []
    },
    {
      "cell_type": "code",
      "metadata": {
        "colab": {
          "base_uri": "https://localhost:8080/"
        },
        "id": "9vT4Q3nArtxc",
        "outputId": "020788ed-6232-4321-8260-d6a8ec7605f2"
      },
      "source": [
        "Amazon_pos.shape"
      ],
      "execution_count": null,
      "outputs": [
        {
          "output_type": "execute_result",
          "data": {
            "text/plain": [
              "(5412, 2)"
            ]
          },
          "metadata": {},
          "execution_count": 14
        }
      ]
    },
    {
      "cell_type": "code",
      "metadata": {
        "colab": {
          "base_uri": "https://localhost:8080/"
        },
        "id": "Fp14JO7GezfH",
        "outputId": "bb9d6506-4d12-47d5-ad39-06a552c1b7e2"
      },
      "source": [
        "# Combining both the Amazon datasets\n",
        "Ama_df = pd.concat([Amazon_pos,Amazon_neg], axis=0)\n",
        "Ama_df.shape[0]"
      ],
      "execution_count": null,
      "outputs": [
        {
          "output_type": "execute_result",
          "data": {
            "text/plain": [
              "10824"
            ]
          },
          "metadata": {},
          "execution_count": 15
        }
      ]
    },
    {
      "cell_type": "code",
      "metadata": {
        "colab": {
          "base_uri": "https://localhost:8080/",
          "height": 204
        },
        "id": "WC1AxevnVK2P",
        "outputId": "ea486575-583c-42c0-c947-6f7c73e88de2"
      },
      "source": [
        "IMdB_df.head()"
      ],
      "execution_count": null,
      "outputs": [
        {
          "output_type": "execute_result",
          "data": {
            "text/html": [
              "<div>\n",
              "<style scoped>\n",
              "    .dataframe tbody tr th:only-of-type {\n",
              "        vertical-align: middle;\n",
              "    }\n",
              "\n",
              "    .dataframe tbody tr th {\n",
              "        vertical-align: top;\n",
              "    }\n",
              "\n",
              "    .dataframe thead th {\n",
              "        text-align: right;\n",
              "    }\n",
              "</style>\n",
              "<table border=\"1\" class=\"dataframe\">\n",
              "  <thead>\n",
              "    <tr style=\"text-align: right;\">\n",
              "      <th></th>\n",
              "      <th>review</th>\n",
              "      <th>sentiment</th>\n",
              "    </tr>\n",
              "  </thead>\n",
              "  <tbody>\n",
              "    <tr>\n",
              "      <th>0</th>\n",
              "      <td>One of the other reviewers has mentioned that ...</td>\n",
              "      <td>positive</td>\n",
              "    </tr>\n",
              "    <tr>\n",
              "      <th>1</th>\n",
              "      <td>A wonderful little production. &lt;br /&gt;&lt;br /&gt;The...</td>\n",
              "      <td>positive</td>\n",
              "    </tr>\n",
              "    <tr>\n",
              "      <th>2</th>\n",
              "      <td>I thought this was a wonderful way to spend ti...</td>\n",
              "      <td>positive</td>\n",
              "    </tr>\n",
              "    <tr>\n",
              "      <th>3</th>\n",
              "      <td>Basically there's a family where a little boy ...</td>\n",
              "      <td>negative</td>\n",
              "    </tr>\n",
              "    <tr>\n",
              "      <th>4</th>\n",
              "      <td>Petter Mattei's \"Love in the Time of Money\" is...</td>\n",
              "      <td>positive</td>\n",
              "    </tr>\n",
              "  </tbody>\n",
              "</table>\n",
              "</div>"
            ],
            "text/plain": [
              "                                              review sentiment\n",
              "0  One of the other reviewers has mentioned that ...  positive\n",
              "1  A wonderful little production. <br /><br />The...  positive\n",
              "2  I thought this was a wonderful way to spend ti...  positive\n",
              "3  Basically there's a family where a little boy ...  negative\n",
              "4  Petter Mattei's \"Love in the Time of Money\" is...  positive"
            ]
          },
          "metadata": {},
          "execution_count": 16
        }
      ]
    },
    {
      "cell_type": "code",
      "metadata": {
        "id": "tNg2e_iqsHub"
      },
      "source": [
        "IMDb_neg = IMdB_df.loc[IMdB_df['sentiment']=='negative']\n",
        "IMDb_pos = IMdB_df.loc[IMdB_df['sentiment']=='positive']"
      ],
      "execution_count": null,
      "outputs": []
    },
    {
      "cell_type": "code",
      "metadata": {
        "id": "UG4fX5zhsHeF",
        "colab": {
          "base_uri": "https://localhost:8080/"
        },
        "outputId": "537f956a-6387-43f8-b86f-a54ff4f71c79"
      },
      "source": [
        "IMDb_neg = IMDb_neg.head(5000)\n",
        "IMDb_pos = IMDb_pos.head(5000)\n",
        "IMDb_df = pd.concat([IMDb_neg, IMDb_pos], axis=0)\n",
        "IMDb_df.shape"
      ],
      "execution_count": null,
      "outputs": [
        {
          "output_type": "execute_result",
          "data": {
            "text/plain": [
              "(10000, 2)"
            ]
          },
          "metadata": {},
          "execution_count": 21
        }
      ]
    },
    {
      "cell_type": "code",
      "metadata": {
        "id": "qLQEXeSiWww4"
      },
      "source": [
        "df = pd.concat([IMDb_df, Ama_df], axis=0)"
      ],
      "execution_count": null,
      "outputs": []
    },
    {
      "cell_type": "code",
      "metadata": {
        "colab": {
          "base_uri": "https://localhost:8080/"
        },
        "id": "sd-Z0dJAXBH-",
        "outputId": "e42eba14-fafe-4062-fae2-73dbe531cb96"
      },
      "source": [
        "df.shape"
      ],
      "execution_count": null,
      "outputs": [
        {
          "output_type": "execute_result",
          "data": {
            "text/plain": [
              "(20824, 2)"
            ]
          },
          "metadata": {},
          "execution_count": 24
        }
      ]
    },
    {
      "cell_type": "code",
      "metadata": {
        "id": "HU1bGy8aggp6"
      },
      "source": [
        ""
      ],
      "execution_count": null,
      "outputs": []
    },
    {
      "cell_type": "code",
      "metadata": {
        "id": "BFh4LlT-kdRP"
      },
      "source": [
        "# Boom!!! we get a combination of 1,17,992 reviews "
      ],
      "execution_count": null,
      "outputs": []
    },
    {
      "cell_type": "code",
      "metadata": {
        "id": "dXxH2uPblFK0"
      },
      "source": [
        "df.to_csv('Xethon20k.csv')"
      ],
      "execution_count": null,
      "outputs": []
    }
  ]
}
{
  "nbformat": 4,
  "nbformat_minor": 0,
  "metadata": {
    "colab": {
      "name": "EDA_With_Product_Recommender.ipynb",
      "provenance": [],
      "collapsed_sections": []
    },
    "kernelspec": {
      "display_name": "Python 3",
      "name": "python3"
    },
    "language_info": {
      "name": "python"
    }
  },
  "cells": [
    {
      "cell_type": "code",
      "metadata": {
        "id": "XBoWZdYurQuN"
      },
      "source": [
        "# importing requiring libraries\n",
        "import pandas as pd\n",
        "# importing plotly for visualization \n",
        "import plotly.express as px"
      ],
      "execution_count": 81,
      "outputs": []
    },
    {
      "cell_type": "code",
      "metadata": {
        "id": "fMnFDeLgtUB2"
      },
      "source": [
        "df = pd.read_csv(\"/content/drive/MyDrive/Xethon/Retail Product Recommender.csv\")"
      ],
      "execution_count": 82,
      "outputs": []
    },
    {
      "cell_type": "code",
      "metadata": {
        "colab": {
          "base_uri": "https://localhost:8080/"
        },
        "id": "qjRGKlPZtYl8",
        "outputId": "f6d78fe5-35c7-46c5-d06a-a9bb77d65818"
      },
      "source": [
        "df.info()"
      ],
      "execution_count": 83,
      "outputs": [
        {
          "output_type": "stream",
          "name": "stdout",
          "text": [
            "<class 'pandas.core.frame.DataFrame'>\n",
            "RangeIndex: 406829 entries, 0 to 406828\n",
            "Data columns (total 7 columns):\n",
            " #   Column       Non-Null Count   Dtype  \n",
            "---  ------       --------------   -----  \n",
            " 0   InvoiceNo    406829 non-null  object \n",
            " 1   StockCode    406829 non-null  object \n",
            " 2   Description  406829 non-null  object \n",
            " 3   Quantity     406829 non-null  int64  \n",
            " 4   InvoiceDate  406829 non-null  object \n",
            " 5   UnitPrice    406829 non-null  float64\n",
            " 6   CustomerID   406829 non-null  int64  \n",
            "dtypes: float64(1), int64(2), object(4)\n",
            "memory usage: 21.7+ MB\n"
          ]
        }
      ]
    },
    {
      "cell_type": "markdown",
      "metadata": {
        "id": "zsdziCVeuvb4"
      },
      "source": [
        "No of Rows --- 406829\n"
      ]
    },
    {
      "cell_type": "code",
      "metadata": {
        "colab": {
          "base_uri": "https://localhost:8080/",
          "height": 300
        },
        "id": "Uk7yR1KZui58",
        "outputId": "732e5dd1-6a00-4770-8a61-3585d4e2196e"
      },
      "source": [
        "df.describe()\n"
      ],
      "execution_count": 84,
      "outputs": [
        {
          "output_type": "execute_result",
          "data": {
            "text/html": [
              "<div>\n",
              "<style scoped>\n",
              "    .dataframe tbody tr th:only-of-type {\n",
              "        vertical-align: middle;\n",
              "    }\n",
              "\n",
              "    .dataframe tbody tr th {\n",
              "        vertical-align: top;\n",
              "    }\n",
              "\n",
              "    .dataframe thead th {\n",
              "        text-align: right;\n",
              "    }\n",
              "</style>\n",
              "<table border=\"1\" class=\"dataframe\">\n",
              "  <thead>\n",
              "    <tr style=\"text-align: right;\">\n",
              "      <th></th>\n",
              "      <th>Quantity</th>\n",
              "      <th>UnitPrice</th>\n",
              "      <th>CustomerID</th>\n",
              "    </tr>\n",
              "  </thead>\n",
              "  <tbody>\n",
              "    <tr>\n",
              "      <th>count</th>\n",
              "      <td>406829.000000</td>\n",
              "      <td>406829.000000</td>\n",
              "      <td>406829.000000</td>\n",
              "    </tr>\n",
              "    <tr>\n",
              "      <th>mean</th>\n",
              "      <td>12.061303</td>\n",
              "      <td>3.460471</td>\n",
              "      <td>15287.690570</td>\n",
              "    </tr>\n",
              "    <tr>\n",
              "      <th>std</th>\n",
              "      <td>248.693370</td>\n",
              "      <td>69.315162</td>\n",
              "      <td>1713.600303</td>\n",
              "    </tr>\n",
              "    <tr>\n",
              "      <th>min</th>\n",
              "      <td>-80995.000000</td>\n",
              "      <td>0.000000</td>\n",
              "      <td>12346.000000</td>\n",
              "    </tr>\n",
              "    <tr>\n",
              "      <th>25%</th>\n",
              "      <td>2.000000</td>\n",
              "      <td>1.250000</td>\n",
              "      <td>13953.000000</td>\n",
              "    </tr>\n",
              "    <tr>\n",
              "      <th>50%</th>\n",
              "      <td>5.000000</td>\n",
              "      <td>1.950000</td>\n",
              "      <td>15152.000000</td>\n",
              "    </tr>\n",
              "    <tr>\n",
              "      <th>75%</th>\n",
              "      <td>12.000000</td>\n",
              "      <td>3.750000</td>\n",
              "      <td>16791.000000</td>\n",
              "    </tr>\n",
              "    <tr>\n",
              "      <th>max</th>\n",
              "      <td>80995.000000</td>\n",
              "      <td>38970.000000</td>\n",
              "      <td>18287.000000</td>\n",
              "    </tr>\n",
              "  </tbody>\n",
              "</table>\n",
              "</div>"
            ],
            "text/plain": [
              "            Quantity      UnitPrice     CustomerID\n",
              "count  406829.000000  406829.000000  406829.000000\n",
              "mean       12.061303       3.460471   15287.690570\n",
              "std       248.693370      69.315162    1713.600303\n",
              "min    -80995.000000       0.000000   12346.000000\n",
              "25%         2.000000       1.250000   13953.000000\n",
              "50%         5.000000       1.950000   15152.000000\n",
              "75%        12.000000       3.750000   16791.000000\n",
              "max     80995.000000   38970.000000   18287.000000"
            ]
          },
          "metadata": {},
          "execution_count": 84
        }
      ]
    },
    {
      "cell_type": "code",
      "metadata": {
        "colab": {
          "base_uri": "https://localhost:8080/"
        },
        "id": "6pZ04soPvIRM",
        "outputId": "c6cadbd3-7a5c-459a-e793-21428cc3bfb7"
      },
      "source": [
        "df.shape"
      ],
      "execution_count": 85,
      "outputs": [
        {
          "output_type": "execute_result",
          "data": {
            "text/plain": [
              "(406829, 7)"
            ]
          },
          "metadata": {},
          "execution_count": 85
        }
      ]
    },
    {
      "cell_type": "code",
      "metadata": {
        "colab": {
          "base_uri": "https://localhost:8080/",
          "height": 363
        },
        "id": "K24o6qxVvL2Q",
        "outputId": "16b7aaa1-fb33-400f-d36d-bb1398018333"
      },
      "source": [
        "df.head(10)"
      ],
      "execution_count": 86,
      "outputs": [
        {
          "output_type": "execute_result",
          "data": {
            "text/html": [
              "<div>\n",
              "<style scoped>\n",
              "    .dataframe tbody tr th:only-of-type {\n",
              "        vertical-align: middle;\n",
              "    }\n",
              "\n",
              "    .dataframe tbody tr th {\n",
              "        vertical-align: top;\n",
              "    }\n",
              "\n",
              "    .dataframe thead th {\n",
              "        text-align: right;\n",
              "    }\n",
              "</style>\n",
              "<table border=\"1\" class=\"dataframe\">\n",
              "  <thead>\n",
              "    <tr style=\"text-align: right;\">\n",
              "      <th></th>\n",
              "      <th>InvoiceNo</th>\n",
              "      <th>StockCode</th>\n",
              "      <th>Description</th>\n",
              "      <th>Quantity</th>\n",
              "      <th>InvoiceDate</th>\n",
              "      <th>UnitPrice</th>\n",
              "      <th>CustomerID</th>\n",
              "    </tr>\n",
              "  </thead>\n",
              "  <tbody>\n",
              "    <tr>\n",
              "      <th>0</th>\n",
              "      <td>536365</td>\n",
              "      <td>85123A</td>\n",
              "      <td>WHITE HANGING HEART T-LIGHT HOLDER</td>\n",
              "      <td>6</td>\n",
              "      <td>01/12/2010 08:26</td>\n",
              "      <td>2.55</td>\n",
              "      <td>17850</td>\n",
              "    </tr>\n",
              "    <tr>\n",
              "      <th>1</th>\n",
              "      <td>536365</td>\n",
              "      <td>71053</td>\n",
              "      <td>WHITE METAL LANTERN</td>\n",
              "      <td>6</td>\n",
              "      <td>01/12/2010 08:26</td>\n",
              "      <td>3.39</td>\n",
              "      <td>17850</td>\n",
              "    </tr>\n",
              "    <tr>\n",
              "      <th>2</th>\n",
              "      <td>536365</td>\n",
              "      <td>84406B</td>\n",
              "      <td>CREAM CUPID HEARTS COAT HANGER</td>\n",
              "      <td>8</td>\n",
              "      <td>01/12/2010 08:26</td>\n",
              "      <td>2.75</td>\n",
              "      <td>17850</td>\n",
              "    </tr>\n",
              "    <tr>\n",
              "      <th>3</th>\n",
              "      <td>536365</td>\n",
              "      <td>84029G</td>\n",
              "      <td>KNITTED UNION FLAG HOT WATER BOTTLE</td>\n",
              "      <td>6</td>\n",
              "      <td>01/12/2010 08:26</td>\n",
              "      <td>3.39</td>\n",
              "      <td>17850</td>\n",
              "    </tr>\n",
              "    <tr>\n",
              "      <th>4</th>\n",
              "      <td>536365</td>\n",
              "      <td>84029E</td>\n",
              "      <td>RED WOOLLY HOTTIE WHITE HEART.</td>\n",
              "      <td>6</td>\n",
              "      <td>01/12/2010 08:26</td>\n",
              "      <td>3.39</td>\n",
              "      <td>17850</td>\n",
              "    </tr>\n",
              "    <tr>\n",
              "      <th>5</th>\n",
              "      <td>536365</td>\n",
              "      <td>22752</td>\n",
              "      <td>SET 7 BABUSHKA NESTING BOXES</td>\n",
              "      <td>2</td>\n",
              "      <td>01/12/2010 08:26</td>\n",
              "      <td>7.65</td>\n",
              "      <td>17850</td>\n",
              "    </tr>\n",
              "    <tr>\n",
              "      <th>6</th>\n",
              "      <td>536365</td>\n",
              "      <td>21730</td>\n",
              "      <td>GLASS STAR FROSTED T-LIGHT HOLDER</td>\n",
              "      <td>6</td>\n",
              "      <td>01/12/2010 08:26</td>\n",
              "      <td>4.25</td>\n",
              "      <td>17850</td>\n",
              "    </tr>\n",
              "    <tr>\n",
              "      <th>7</th>\n",
              "      <td>536366</td>\n",
              "      <td>22633</td>\n",
              "      <td>HAND WARMER UNION JACK</td>\n",
              "      <td>6</td>\n",
              "      <td>01/12/2010 08:28</td>\n",
              "      <td>1.85</td>\n",
              "      <td>17850</td>\n",
              "    </tr>\n",
              "    <tr>\n",
              "      <th>8</th>\n",
              "      <td>536366</td>\n",
              "      <td>22632</td>\n",
              "      <td>HAND WARMER RED POLKA DOT</td>\n",
              "      <td>6</td>\n",
              "      <td>01/12/2010 08:28</td>\n",
              "      <td>1.85</td>\n",
              "      <td>17850</td>\n",
              "    </tr>\n",
              "    <tr>\n",
              "      <th>9</th>\n",
              "      <td>536367</td>\n",
              "      <td>84879</td>\n",
              "      <td>ASSORTED COLOUR BIRD ORNAMENT</td>\n",
              "      <td>32</td>\n",
              "      <td>01/12/2010 08:34</td>\n",
              "      <td>1.69</td>\n",
              "      <td>13047</td>\n",
              "    </tr>\n",
              "  </tbody>\n",
              "</table>\n",
              "</div>"
            ],
            "text/plain": [
              "  InvoiceNo StockCode  ... UnitPrice  CustomerID\n",
              "0    536365    85123A  ...      2.55       17850\n",
              "1    536365     71053  ...      3.39       17850\n",
              "2    536365    84406B  ...      2.75       17850\n",
              "3    536365    84029G  ...      3.39       17850\n",
              "4    536365    84029E  ...      3.39       17850\n",
              "5    536365     22752  ...      7.65       17850\n",
              "6    536365     21730  ...      4.25       17850\n",
              "7    536366     22633  ...      1.85       17850\n",
              "8    536366     22632  ...      1.85       17850\n",
              "9    536367     84879  ...      1.69       13047\n",
              "\n",
              "[10 rows x 7 columns]"
            ]
          },
          "metadata": {},
          "execution_count": 86
        }
      ]
    },
    {
      "cell_type": "code",
      "metadata": {
        "colab": {
          "base_uri": "https://localhost:8080/"
        },
        "id": "6zrNmRGEvRzY",
        "outputId": "2311a5d3-cd7f-471d-e3e3-fe8aadf702fa"
      },
      "source": [
        "df.CustomerID.nunique()"
      ],
      "execution_count": 87,
      "outputs": [
        {
          "output_type": "execute_result",
          "data": {
            "text/plain": [
              "4372"
            ]
          },
          "metadata": {},
          "execution_count": 87
        }
      ]
    },
    {
      "cell_type": "markdown",
      "metadata": {
        "id": "8osqzfNKxfJd"
      },
      "source": [
        "Findings no of 1 <br>\n",
        "We have found that only **4372** Customers are active in purchasing regularly"
      ]
    },
    {
      "cell_type": "code",
      "metadata": {
        "colab": {
          "base_uri": "https://localhost:8080/"
        },
        "id": "_eUfEoVDvbJT",
        "outputId": "cc01ef22-bad1-4321-f64b-69f31da9601b"
      },
      "source": [
        "df.StockCode.nunique()"
      ],
      "execution_count": 88,
      "outputs": [
        {
          "output_type": "execute_result",
          "data": {
            "text/plain": [
              "3684"
            ]
          },
          "metadata": {},
          "execution_count": 88
        }
      ]
    },
    {
      "cell_type": "code",
      "metadata": {
        "id": "CiEpXPjVNZo9"
      },
      "source": [
        ""
      ],
      "execution_count": null,
      "outputs": []
    },
    {
      "cell_type": "markdown",
      "metadata": {
        "id": "--TGThUBxwRL"
      },
      "source": [
        "Findings no 2<br>\n",
        "No of Unique Products --- 3684"
      ]
    },
    {
      "cell_type": "code",
      "metadata": {
        "colab": {
          "base_uri": "https://localhost:8080/"
        },
        "id": "J8G3lEfyxqEN",
        "outputId": "3d8a98d1-abf5-4e31-fdd9-3d1a40ad7fff"
      },
      "source": [
        "df.InvoiceNo.nunique()"
      ],
      "execution_count": 89,
      "outputs": [
        {
          "output_type": "execute_result",
          "data": {
            "text/plain": [
              "22190"
            ]
          },
          "metadata": {},
          "execution_count": 89
        }
      ]
    },
    {
      "cell_type": "code",
      "metadata": {
        "id": "TFBBsfVcx-W2"
      },
      "source": [
        "a=df.groupby([\"Description\"],as_index=False).sum().drop(['UnitPrice','CustomerID'], axis = 1)"
      ],
      "execution_count": 98,
      "outputs": []
    },
    {
      "cell_type": "code",
      "metadata": {
        "colab": {
          "base_uri": "https://localhost:8080/",
          "height": 423
        },
        "id": "1Zcrr8Vp0E2x",
        "outputId": "b4ad12f5-22a5-438e-9fa4-99b13440b406"
      },
      "source": [
        "b=a.head(100)\n",
        "b"
      ],
      "execution_count": 107,
      "outputs": [
        {
          "output_type": "execute_result",
          "data": {
            "text/html": [
              "<div>\n",
              "<style scoped>\n",
              "    .dataframe tbody tr th:only-of-type {\n",
              "        vertical-align: middle;\n",
              "    }\n",
              "\n",
              "    .dataframe tbody tr th {\n",
              "        vertical-align: top;\n",
              "    }\n",
              "\n",
              "    .dataframe thead th {\n",
              "        text-align: right;\n",
              "    }\n",
              "</style>\n",
              "<table border=\"1\" class=\"dataframe\">\n",
              "  <thead>\n",
              "    <tr style=\"text-align: right;\">\n",
              "      <th></th>\n",
              "      <th>Description</th>\n",
              "      <th>Quantity</th>\n",
              "    </tr>\n",
              "  </thead>\n",
              "  <tbody>\n",
              "    <tr>\n",
              "      <th>0</th>\n",
              "      <td>4 PURPLE FLOCK DINNER CANDLES</td>\n",
              "      <td>140</td>\n",
              "    </tr>\n",
              "    <tr>\n",
              "      <th>1</th>\n",
              "      <td>50'S CHRISTMAS GIFT BAG LARGE</td>\n",
              "      <td>1883</td>\n",
              "    </tr>\n",
              "    <tr>\n",
              "      <th>2</th>\n",
              "      <td>DOLLY GIRL BEAKER</td>\n",
              "      <td>2391</td>\n",
              "    </tr>\n",
              "    <tr>\n",
              "      <th>3</th>\n",
              "      <td>I LOVE LONDON MINI BACKPACK</td>\n",
              "      <td>360</td>\n",
              "    </tr>\n",
              "    <tr>\n",
              "      <th>4</th>\n",
              "      <td>I LOVE LONDON MINI RUCKSACK</td>\n",
              "      <td>1</td>\n",
              "    </tr>\n",
              "    <tr>\n",
              "      <th>...</th>\n",
              "      <td>...</td>\n",
              "      <td>...</td>\n",
              "    </tr>\n",
              "    <tr>\n",
              "      <th>95</th>\n",
              "      <td>50'S CHRISTMAS PAPER GIFT BAG</td>\n",
              "      <td>1326</td>\n",
              "    </tr>\n",
              "    <tr>\n",
              "      <th>96</th>\n",
              "      <td>50CM METAL STRING WITH  7 CLIPS</td>\n",
              "      <td>222</td>\n",
              "    </tr>\n",
              "    <tr>\n",
              "      <th>97</th>\n",
              "      <td>6 CHOCOLATE LOVE HEART T-LIGHTS</td>\n",
              "      <td>1018</td>\n",
              "    </tr>\n",
              "    <tr>\n",
              "      <th>98</th>\n",
              "      <td>6 EGG HOUSE PAINTED WOOD</td>\n",
              "      <td>254</td>\n",
              "    </tr>\n",
              "    <tr>\n",
              "      <th>99</th>\n",
              "      <td>6 GIFT TAGS 50'S CHRISTMAS</td>\n",
              "      <td>3298</td>\n",
              "    </tr>\n",
              "  </tbody>\n",
              "</table>\n",
              "<p>100 rows × 2 columns</p>\n",
              "</div>"
            ],
            "text/plain": [
              "                        Description  Quantity\n",
              "0     4 PURPLE FLOCK DINNER CANDLES       140\n",
              "1     50'S CHRISTMAS GIFT BAG LARGE      1883\n",
              "2                 DOLLY GIRL BEAKER      2391\n",
              "3       I LOVE LONDON MINI BACKPACK       360\n",
              "4       I LOVE LONDON MINI RUCKSACK         1\n",
              "..                              ...       ...\n",
              "95    50'S CHRISTMAS PAPER GIFT BAG      1326\n",
              "96  50CM METAL STRING WITH  7 CLIPS       222\n",
              "97  6 CHOCOLATE LOVE HEART T-LIGHTS      1018\n",
              "98         6 EGG HOUSE PAINTED WOOD       254\n",
              "99      6 GIFT TAGS 50'S CHRISTMAS       3298\n",
              "\n",
              "[100 rows x 2 columns]"
            ]
          },
          "metadata": {},
          "execution_count": 107
        }
      ]
    },
    {
      "cell_type": "code",
      "metadata": {
        "colab": {
          "base_uri": "https://localhost:8080/"
        },
        "id": "YxAP8QJRB7ri",
        "outputId": "db5d68f0-83df-40b7-c35d-4da3a984e44f"
      },
      "source": [
        "print(type(b))"
      ],
      "execution_count": 92,
      "outputs": [
        {
          "output_type": "stream",
          "name": "stdout",
          "text": [
            "<class 'pandas.core.frame.DataFrame'>\n"
          ]
        }
      ]
    },
    {
      "cell_type": "code",
      "metadata": {
        "colab": {
          "base_uri": "https://localhost:8080/"
        },
        "id": "ReNcxSXt0ryB",
        "outputId": "c41d13c2-d920-4d32-892d-e09669794946"
      },
      "source": [
        "!pip install plotly.express"
      ],
      "execution_count": 93,
      "outputs": [
        {
          "output_type": "stream",
          "name": "stdout",
          "text": [
            "Requirement already satisfied: plotly.express in /usr/local/lib/python3.7/dist-packages (0.4.1)\n",
            "Requirement already satisfied: plotly>=4.1.0 in /usr/local/lib/python3.7/dist-packages (from plotly.express) (4.4.1)\n",
            "Requirement already satisfied: patsy>=0.5 in /usr/local/lib/python3.7/dist-packages (from plotly.express) (0.5.1)\n",
            "Requirement already satisfied: scipy>=0.18 in /usr/local/lib/python3.7/dist-packages (from plotly.express) (1.4.1)\n",
            "Requirement already satisfied: numpy>=1.11 in /usr/local/lib/python3.7/dist-packages (from plotly.express) (1.19.5)\n",
            "Requirement already satisfied: pandas>=0.20.0 in /usr/local/lib/python3.7/dist-packages (from plotly.express) (1.1.5)\n",
            "Requirement already satisfied: statsmodels>=0.9.0 in /usr/local/lib/python3.7/dist-packages (from plotly.express) (0.10.2)\n",
            "Requirement already satisfied: python-dateutil>=2.7.3 in /usr/local/lib/python3.7/dist-packages (from pandas>=0.20.0->plotly.express) (2.8.2)\n",
            "Requirement already satisfied: pytz>=2017.2 in /usr/local/lib/python3.7/dist-packages (from pandas>=0.20.0->plotly.express) (2018.9)\n",
            "Requirement already satisfied: six in /usr/local/lib/python3.7/dist-packages (from patsy>=0.5->plotly.express) (1.15.0)\n",
            "Requirement already satisfied: retrying>=1.3.3 in /usr/local/lib/python3.7/dist-packages (from plotly>=4.1.0->plotly.express) (1.3.3)\n"
          ]
        }
      ]
    },
    {
      "cell_type": "code",
      "metadata": {
        "id": "a1iPbDv1Ommz"
      },
      "source": [
        ""
      ],
      "execution_count": null,
      "outputs": []
    },
    {
      "cell_type": "markdown",
      "metadata": {
        "id": "7qQItdItOqcG"
      },
      "source": [
        "Findings no 3 <br>\n",
        "We have visualized products and their sale quantity. We can find that certain exclusive products have sold more than **5000 times**"
      ]
    },
    {
      "cell_type": "code",
      "metadata": {
        "colab": {
          "base_uri": "https://localhost:8080/",
          "height": 542
        },
        "id": "gy8lOJsZCOV-",
        "outputId": "aebdda02-a0ad-403e-fd36-d21f8122dabf"
      },
      "source": [
        "plot_bar = px.data.gapminder()\n",
        "px.bar(data_frame=b, x='Description',y='Quantity',color='Description')"
      ],
      "execution_count": 109,
      "outputs": [
        {
          "output_type": "display_data",
          "data": {
            "text/html": [
              "<html>\n",
              "<head><meta charset=\"utf-8\" /></head>\n",
              "<body>\n",
              "    <div>\n",
              "            <script src=\"https://cdnjs.cloudflare.com/ajax/libs/mathjax/2.7.5/MathJax.js?config=TeX-AMS-MML_SVG\"></script><script type=\"text/javascript\">if (window.MathJax) {MathJax.Hub.Config({SVG: {font: \"STIX-Web\"}});}</script>\n",
              "                <script type=\"text/javascript\">window.PlotlyConfig = {MathJaxConfig: 'local'};</script>\n",
              "        <script src=\"https://cdn.plot.ly/plotly-latest.min.js\"></script>    \n",
              "            <div id=\"9f6c59a7-a3db-4a76-be95-89b5fe2d2251\" class=\"plotly-graph-div\" style=\"height:525px; width:100%;\"></div>\n",
              "            <script type=\"text/javascript\">\n",
              "                \n",
              "                    window.PLOTLYENV=window.PLOTLYENV || {};\n",
              "                    \n",
              "                if (document.getElementById(\"9f6c59a7-a3db-4a76-be95-89b5fe2d2251\")) {\n",
              "                    Plotly.newPlot(\n",
              "                        '9f6c59a7-a3db-4a76-be95-89b5fe2d2251',\n",
              "                        [{\"alignmentgroup\": \"True\", \"hoverlabel\": {\"namelength\": 0}, \"hovertemplate\": \"Description=%{x}<br>Quantity=%{y}\", \"legendgroup\": \"Description= 4 PURPLE FLOCK DINNER CANDLES\", \"marker\": {\"color\": \"#636efa\"}, \"name\": \"Description= 4 PURPLE FLOCK DINNER CANDLES\", \"offsetgroup\": \"Description= 4 PURPLE FLOCK DINNER CANDLES\", \"orientation\": \"v\", \"showlegend\": true, \"textposition\": \"auto\", \"type\": \"bar\", \"x\": [\" 4 PURPLE FLOCK DINNER CANDLES\"], \"xaxis\": \"x\", \"y\": [140], \"yaxis\": \"y\"}, {\"alignmentgroup\": \"True\", \"hoverlabel\": {\"namelength\": 0}, \"hovertemplate\": \"Description=%{x}<br>Quantity=%{y}\", \"legendgroup\": \"Description= 50'S CHRISTMAS GIFT BAG LARGE\", \"marker\": {\"color\": \"#EF553B\"}, \"name\": \"Description= 50'S CHRISTMAS GIFT BAG LARGE\", \"offsetgroup\": \"Description= 50'S CHRISTMAS GIFT BAG LARGE\", \"orientation\": \"v\", \"showlegend\": true, \"textposition\": \"auto\", \"type\": \"bar\", \"x\": [\" 50'S CHRISTMAS GIFT BAG LARGE\"], \"xaxis\": \"x\", \"y\": [1883], \"yaxis\": \"y\"}, {\"alignmentgroup\": \"True\", \"hoverlabel\": {\"namelength\": 0}, \"hovertemplate\": \"Description=%{x}<br>Quantity=%{y}\", \"legendgroup\": \"Description= DOLLY GIRL BEAKER\", \"marker\": {\"color\": \"#00cc96\"}, \"name\": \"Description= DOLLY GIRL BEAKER\", \"offsetgroup\": \"Description= DOLLY GIRL BEAKER\", \"orientation\": \"v\", \"showlegend\": true, \"textposition\": \"auto\", \"type\": \"bar\", \"x\": [\" DOLLY GIRL BEAKER\"], \"xaxis\": \"x\", \"y\": [2391], \"yaxis\": \"y\"}, {\"alignmentgroup\": \"True\", \"hoverlabel\": {\"namelength\": 0}, \"hovertemplate\": \"Description=%{x}<br>Quantity=%{y}\", \"legendgroup\": \"Description= I LOVE LONDON MINI BACKPACK\", \"marker\": {\"color\": \"#ab63fa\"}, \"name\": \"Description= I LOVE LONDON MINI BACKPACK\", \"offsetgroup\": \"Description= I LOVE LONDON MINI BACKPACK\", \"orientation\": \"v\", \"showlegend\": true, \"textposition\": \"auto\", \"type\": \"bar\", \"x\": [\" I LOVE LONDON MINI BACKPACK\"], \"xaxis\": \"x\", \"y\": [360], \"yaxis\": \"y\"}, {\"alignmentgroup\": \"True\", \"hoverlabel\": {\"namelength\": 0}, \"hovertemplate\": \"Description=%{x}<br>Quantity=%{y}\", \"legendgroup\": \"Description= I LOVE LONDON MINI RUCKSACK\", \"marker\": {\"color\": \"#FFA15A\"}, \"name\": \"Description= I LOVE LONDON MINI RUCKSACK\", \"offsetgroup\": \"Description= I LOVE LONDON MINI RUCKSACK\", \"orientation\": \"v\", \"showlegend\": true, \"textposition\": \"auto\", \"type\": \"bar\", \"x\": [\" I LOVE LONDON MINI RUCKSACK\"], \"xaxis\": \"x\", \"y\": [1], \"yaxis\": \"y\"}, {\"alignmentgroup\": \"True\", \"hoverlabel\": {\"namelength\": 0}, \"hovertemplate\": \"Description=%{x}<br>Quantity=%{y}\", \"legendgroup\": \"Description= NINE DRAWER OFFICE TIDY\", \"marker\": {\"color\": \"#19d3f3\"}, \"name\": \"Description= NINE DRAWER OFFICE TIDY\", \"offsetgroup\": \"Description= NINE DRAWER OFFICE TIDY\", \"orientation\": \"v\", \"showlegend\": true, \"textposition\": \"auto\", \"type\": \"bar\", \"x\": [\" NINE DRAWER OFFICE TIDY\"], \"xaxis\": \"x\", \"y\": [55], \"yaxis\": \"y\"}, {\"alignmentgroup\": \"True\", \"hoverlabel\": {\"namelength\": 0}, \"hovertemplate\": \"Description=%{x}<br>Quantity=%{y}\", \"legendgroup\": \"Description= OVAL WALL MIRROR DIAMANTE \", \"marker\": {\"color\": \"#FF6692\"}, \"name\": \"Description= OVAL WALL MIRROR DIAMANTE \", \"offsetgroup\": \"Description= OVAL WALL MIRROR DIAMANTE \", \"orientation\": \"v\", \"showlegend\": true, \"textposition\": \"auto\", \"type\": \"bar\", \"x\": [\" OVAL WALL MIRROR DIAMANTE \"], \"xaxis\": \"x\", \"y\": [117], \"yaxis\": \"y\"}, {\"alignmentgroup\": \"True\", \"hoverlabel\": {\"namelength\": 0}, \"hovertemplate\": \"Description=%{x}<br>Quantity=%{y}\", \"legendgroup\": \"Description= RED SPOT GIFT BAG LARGE\", \"marker\": {\"color\": \"#B6E880\"}, \"name\": \"Description= RED SPOT GIFT BAG LARGE\", \"offsetgroup\": \"Description= RED SPOT GIFT BAG LARGE\", \"orientation\": \"v\", \"showlegend\": true, \"textposition\": \"auto\", \"type\": \"bar\", \"x\": [\" RED SPOT GIFT BAG LARGE\"], \"xaxis\": \"x\", \"y\": [1700], \"yaxis\": \"y\"}, {\"alignmentgroup\": \"True\", \"hoverlabel\": {\"namelength\": 0}, \"hovertemplate\": \"Description=%{x}<br>Quantity=%{y}\", \"legendgroup\": \"Description= SET 2 TEA TOWELS I LOVE LONDON \", \"marker\": {\"color\": \"#FF97FF\"}, \"name\": \"Description= SET 2 TEA TOWELS I LOVE LONDON \", \"offsetgroup\": \"Description= SET 2 TEA TOWELS I LOVE LONDON \", \"orientation\": \"v\", \"showlegend\": true, \"textposition\": \"auto\", \"type\": \"bar\", \"x\": [\" SET 2 TEA TOWELS I LOVE LONDON \"], \"xaxis\": \"x\", \"y\": [2619], \"yaxis\": \"y\"}, {\"alignmentgroup\": \"True\", \"hoverlabel\": {\"namelength\": 0}, \"hovertemplate\": \"Description=%{x}<br>Quantity=%{y}\", \"legendgroup\": \"Description= SPACEBOY BABY GIFT SET\", \"marker\": {\"color\": \"#FECB52\"}, \"name\": \"Description= SPACEBOY BABY GIFT SET\", \"offsetgroup\": \"Description= SPACEBOY BABY GIFT SET\", \"orientation\": \"v\", \"showlegend\": true, \"textposition\": \"auto\", \"type\": \"bar\", \"x\": [\" SPACEBOY BABY GIFT SET\"], \"xaxis\": \"x\", \"y\": [444], \"yaxis\": \"y\"}, {\"alignmentgroup\": \"True\", \"hoverlabel\": {\"namelength\": 0}, \"hovertemplate\": \"Description=%{x}<br>Quantity=%{y}\", \"legendgroup\": \"Description= TOADSTOOL BEDSIDE LIGHT \", \"marker\": {\"color\": \"#636efa\"}, \"name\": \"Description= TOADSTOOL BEDSIDE LIGHT \", \"offsetgroup\": \"Description= TOADSTOOL BEDSIDE LIGHT \", \"orientation\": \"v\", \"showlegend\": true, \"textposition\": \"auto\", \"type\": \"bar\", \"x\": [\" TOADSTOOL BEDSIDE LIGHT \"], \"xaxis\": \"x\", \"y\": [2], \"yaxis\": \"y\"}, {\"alignmentgroup\": \"True\", \"hoverlabel\": {\"namelength\": 0}, \"hovertemplate\": \"Description=%{x}<br>Quantity=%{y}\", \"legendgroup\": \"Description= TRELLIS COAT RACK\", \"marker\": {\"color\": \"#EF553B\"}, \"name\": \"Description= TRELLIS COAT RACK\", \"offsetgroup\": \"Description= TRELLIS COAT RACK\", \"orientation\": \"v\", \"showlegend\": true, \"textposition\": \"auto\", \"type\": \"bar\", \"x\": [\" TRELLIS COAT RACK\"], \"xaxis\": \"x\", \"y\": [216], \"yaxis\": \"y\"}, {\"alignmentgroup\": \"True\", \"hoverlabel\": {\"namelength\": 0}, \"hovertemplate\": \"Description=%{x}<br>Quantity=%{y}\", \"legendgroup\": \"Description=10 COLOUR SPACEBOY PEN\", \"marker\": {\"color\": \"#00cc96\"}, \"name\": \"Description=10 COLOUR SPACEBOY PEN\", \"offsetgroup\": \"Description=10 COLOUR SPACEBOY PEN\", \"orientation\": \"v\", \"showlegend\": true, \"textposition\": \"auto\", \"type\": \"bar\", \"x\": [\"10 COLOUR SPACEBOY PEN\"], \"xaxis\": \"x\", \"y\": [6102], \"yaxis\": \"y\"}, {\"alignmentgroup\": \"True\", \"hoverlabel\": {\"namelength\": 0}, \"hovertemplate\": \"Description=%{x}<br>Quantity=%{y}\", \"legendgroup\": \"Description=12 COLOURED PARTY BALLOONS\", \"marker\": {\"color\": \"#ab63fa\"}, \"name\": \"Description=12 COLOURED PARTY BALLOONS\", \"offsetgroup\": \"Description=12 COLOURED PARTY BALLOONS\", \"orientation\": \"v\", \"showlegend\": true, \"textposition\": \"auto\", \"type\": \"bar\", \"x\": [\"12 COLOURED PARTY BALLOONS\"], \"xaxis\": \"x\", \"y\": [2090], \"yaxis\": \"y\"}, {\"alignmentgroup\": \"True\", \"hoverlabel\": {\"namelength\": 0}, \"hovertemplate\": \"Description=%{x}<br>Quantity=%{y}\", \"legendgroup\": \"Description=12 DAISY PEGS IN WOOD BOX\", \"marker\": {\"color\": \"#FFA15A\"}, \"name\": \"Description=12 DAISY PEGS IN WOOD BOX\", \"offsetgroup\": \"Description=12 DAISY PEGS IN WOOD BOX\", \"orientation\": \"v\", \"showlegend\": true, \"textposition\": \"auto\", \"type\": \"bar\", \"x\": [\"12 DAISY PEGS IN WOOD BOX\"], \"xaxis\": \"x\", \"y\": [327], \"yaxis\": \"y\"}, {\"alignmentgroup\": \"True\", \"hoverlabel\": {\"namelength\": 0}, \"hovertemplate\": \"Description=%{x}<br>Quantity=%{y}\", \"legendgroup\": \"Description=12 EGG HOUSE PAINTED WOOD\", \"marker\": {\"color\": \"#19d3f3\"}, \"name\": \"Description=12 EGG HOUSE PAINTED WOOD\", \"offsetgroup\": \"Description=12 EGG HOUSE PAINTED WOOD\", \"orientation\": \"v\", \"showlegend\": true, \"textposition\": \"auto\", \"type\": \"bar\", \"x\": [\"12 EGG HOUSE PAINTED WOOD\"], \"xaxis\": \"x\", \"y\": [110], \"yaxis\": \"y\"}, {\"alignmentgroup\": \"True\", \"hoverlabel\": {\"namelength\": 0}, \"hovertemplate\": \"Description=%{x}<br>Quantity=%{y}\", \"legendgroup\": \"Description=12 HANGING EGGS HAND PAINTED\", \"marker\": {\"color\": \"#FF6692\"}, \"name\": \"Description=12 HANGING EGGS HAND PAINTED\", \"offsetgroup\": \"Description=12 HANGING EGGS HAND PAINTED\", \"orientation\": \"v\", \"showlegend\": true, \"textposition\": \"auto\", \"type\": \"bar\", \"x\": [\"12 HANGING EGGS HAND PAINTED\"], \"xaxis\": \"x\", \"y\": [42], \"yaxis\": \"y\"}, {\"alignmentgroup\": \"True\", \"hoverlabel\": {\"namelength\": 0}, \"hovertemplate\": \"Description=%{x}<br>Quantity=%{y}\", \"legendgroup\": \"Description=12 IVORY ROSE PEG PLACE SETTINGS\", \"marker\": {\"color\": \"#B6E880\"}, \"name\": \"Description=12 IVORY ROSE PEG PLACE SETTINGS\", \"offsetgroup\": \"Description=12 IVORY ROSE PEG PLACE SETTINGS\", \"orientation\": \"v\", \"showlegend\": true, \"textposition\": \"auto\", \"type\": \"bar\", \"x\": [\"12 IVORY ROSE PEG PLACE SETTINGS\"], \"xaxis\": \"x\", \"y\": [748], \"yaxis\": \"y\"}, {\"alignmentgroup\": \"True\", \"hoverlabel\": {\"namelength\": 0}, \"hovertemplate\": \"Description=%{x}<br>Quantity=%{y}\", \"legendgroup\": \"Description=12 MESSAGE CARDS WITH ENVELOPES\", \"marker\": {\"color\": \"#FF97FF\"}, \"name\": \"Description=12 MESSAGE CARDS WITH ENVELOPES\", \"offsetgroup\": \"Description=12 MESSAGE CARDS WITH ENVELOPES\", \"orientation\": \"v\", \"showlegend\": true, \"textposition\": \"auto\", \"type\": \"bar\", \"x\": [\"12 MESSAGE CARDS WITH ENVELOPES\"], \"xaxis\": \"x\", \"y\": [1628], \"yaxis\": \"y\"}, {\"alignmentgroup\": \"True\", \"hoverlabel\": {\"namelength\": 0}, \"hovertemplate\": \"Description=%{x}<br>Quantity=%{y}\", \"legendgroup\": \"Description=12 PENCIL SMALL TUBE WOODLAND\", \"marker\": {\"color\": \"#FECB52\"}, \"name\": \"Description=12 PENCIL SMALL TUBE WOODLAND\", \"offsetgroup\": \"Description=12 PENCIL SMALL TUBE WOODLAND\", \"orientation\": \"v\", \"showlegend\": true, \"textposition\": \"auto\", \"type\": \"bar\", \"x\": [\"12 PENCIL SMALL TUBE WOODLAND\"], \"xaxis\": \"x\", \"y\": [4003], \"yaxis\": \"y\"}, {\"alignmentgroup\": \"True\", \"hoverlabel\": {\"namelength\": 0}, \"hovertemplate\": \"Description=%{x}<br>Quantity=%{y}\", \"legendgroup\": \"Description=12 PENCILS SMALL TUBE RED RETROSPOT\", \"marker\": {\"color\": \"#636efa\"}, \"name\": \"Description=12 PENCILS SMALL TUBE RED RETROSPOT\", \"offsetgroup\": \"Description=12 PENCILS SMALL TUBE RED RETROSPOT\", \"orientation\": \"v\", \"showlegend\": true, \"textposition\": \"auto\", \"type\": \"bar\", \"x\": [\"12 PENCILS SMALL TUBE RED RETROSPOT\"], \"xaxis\": \"x\", \"y\": [6280], \"yaxis\": \"y\"}, {\"alignmentgroup\": \"True\", \"hoverlabel\": {\"namelength\": 0}, \"hovertemplate\": \"Description=%{x}<br>Quantity=%{y}\", \"legendgroup\": \"Description=12 PENCILS SMALL TUBE SKULL\", \"marker\": {\"color\": \"#EF553B\"}, \"name\": \"Description=12 PENCILS SMALL TUBE SKULL\", \"offsetgroup\": \"Description=12 PENCILS SMALL TUBE SKULL\", \"orientation\": \"v\", \"showlegend\": true, \"textposition\": \"auto\", \"type\": \"bar\", \"x\": [\"12 PENCILS SMALL TUBE SKULL\"], \"xaxis\": \"x\", \"y\": [6168], \"yaxis\": \"y\"}, {\"alignmentgroup\": \"True\", \"hoverlabel\": {\"namelength\": 0}, \"hovertemplate\": \"Description=%{x}<br>Quantity=%{y}\", \"legendgroup\": \"Description=12 PENCILS TALL TUBE POSY\", \"marker\": {\"color\": \"#00cc96\"}, \"name\": \"Description=12 PENCILS TALL TUBE POSY\", \"offsetgroup\": \"Description=12 PENCILS TALL TUBE POSY\", \"orientation\": \"v\", \"showlegend\": true, \"textposition\": \"auto\", \"type\": \"bar\", \"x\": [\"12 PENCILS TALL TUBE POSY\"], \"xaxis\": \"x\", \"y\": [3785], \"yaxis\": \"y\"}, {\"alignmentgroup\": \"True\", \"hoverlabel\": {\"namelength\": 0}, \"hovertemplate\": \"Description=%{x}<br>Quantity=%{y}\", \"legendgroup\": \"Description=12 PENCILS TALL TUBE RED RETROSPOT\", \"marker\": {\"color\": \"#ab63fa\"}, \"name\": \"Description=12 PENCILS TALL TUBE RED RETROSPOT\", \"offsetgroup\": \"Description=12 PENCILS TALL TUBE RED RETROSPOT\", \"orientation\": \"v\", \"showlegend\": true, \"textposition\": \"auto\", \"type\": \"bar\", \"x\": [\"12 PENCILS TALL TUBE RED RETROSPOT\"], \"xaxis\": \"x\", \"y\": [2645], \"yaxis\": \"y\"}, {\"alignmentgroup\": \"True\", \"hoverlabel\": {\"namelength\": 0}, \"hovertemplate\": \"Description=%{x}<br>Quantity=%{y}\", \"legendgroup\": \"Description=12 PENCILS TALL TUBE SKULLS\", \"marker\": {\"color\": \"#FFA15A\"}, \"name\": \"Description=12 PENCILS TALL TUBE SKULLS\", \"offsetgroup\": \"Description=12 PENCILS TALL TUBE SKULLS\", \"orientation\": \"v\", \"showlegend\": true, \"textposition\": \"auto\", \"type\": \"bar\", \"x\": [\"12 PENCILS TALL TUBE SKULLS\"], \"xaxis\": \"x\", \"y\": [2015], \"yaxis\": \"y\"}, {\"alignmentgroup\": \"True\", \"hoverlabel\": {\"namelength\": 0}, \"hovertemplate\": \"Description=%{x}<br>Quantity=%{y}\", \"legendgroup\": \"Description=12 PENCILS TALL TUBE WOODLAND\", \"marker\": {\"color\": \"#19d3f3\"}, \"name\": \"Description=12 PENCILS TALL TUBE WOODLAND\", \"offsetgroup\": \"Description=12 PENCILS TALL TUBE WOODLAND\", \"orientation\": \"v\", \"showlegend\": true, \"textposition\": \"auto\", \"type\": \"bar\", \"x\": [\"12 PENCILS TALL TUBE WOODLAND\"], \"xaxis\": \"x\", \"y\": [1832], \"yaxis\": \"y\"}, {\"alignmentgroup\": \"True\", \"hoverlabel\": {\"namelength\": 0}, \"hovertemplate\": \"Description=%{x}<br>Quantity=%{y}\", \"legendgroup\": \"Description=12 PINK HEN+CHICKS IN BASKET\", \"marker\": {\"color\": \"#FF6692\"}, \"name\": \"Description=12 PINK HEN+CHICKS IN BASKET\", \"offsetgroup\": \"Description=12 PINK HEN+CHICKS IN BASKET\", \"orientation\": \"v\", \"showlegend\": true, \"textposition\": \"auto\", \"type\": \"bar\", \"x\": [\"12 PINK HEN+CHICKS IN BASKET\"], \"xaxis\": \"x\", \"y\": [35], \"yaxis\": \"y\"}, {\"alignmentgroup\": \"True\", \"hoverlabel\": {\"namelength\": 0}, \"hovertemplate\": \"Description=%{x}<br>Quantity=%{y}\", \"legendgroup\": \"Description=12 PINK ROSE PEG PLACE SETTINGS\", \"marker\": {\"color\": \"#B6E880\"}, \"name\": \"Description=12 PINK ROSE PEG PLACE SETTINGS\", \"offsetgroup\": \"Description=12 PINK ROSE PEG PLACE SETTINGS\", \"orientation\": \"v\", \"showlegend\": true, \"textposition\": \"auto\", \"type\": \"bar\", \"x\": [\"12 PINK ROSE PEG PLACE SETTINGS\"], \"xaxis\": \"x\", \"y\": [210], \"yaxis\": \"y\"}, {\"alignmentgroup\": \"True\", \"hoverlabel\": {\"namelength\": 0}, \"hovertemplate\": \"Description=%{x}<br>Quantity=%{y}\", \"legendgroup\": \"Description=12 RED ROSE PEG PLACE SETTINGS\", \"marker\": {\"color\": \"#FF97FF\"}, \"name\": \"Description=12 RED ROSE PEG PLACE SETTINGS\", \"offsetgroup\": \"Description=12 RED ROSE PEG PLACE SETTINGS\", \"orientation\": \"v\", \"showlegend\": true, \"textposition\": \"auto\", \"type\": \"bar\", \"x\": [\"12 RED ROSE PEG PLACE SETTINGS\"], \"xaxis\": \"x\", \"y\": [400], \"yaxis\": \"y\"}, {\"alignmentgroup\": \"True\", \"hoverlabel\": {\"namelength\": 0}, \"hovertemplate\": \"Description=%{x}<br>Quantity=%{y}\", \"legendgroup\": \"Description=15 PINK FLUFFY CHICKS IN BOX\", \"marker\": {\"color\": \"#FECB52\"}, \"name\": \"Description=15 PINK FLUFFY CHICKS IN BOX\", \"offsetgroup\": \"Description=15 PINK FLUFFY CHICKS IN BOX\", \"orientation\": \"v\", \"showlegend\": true, \"textposition\": \"auto\", \"type\": \"bar\", \"x\": [\"15 PINK FLUFFY CHICKS IN BOX\"], \"xaxis\": \"x\", \"y\": [10], \"yaxis\": \"y\"}, {\"alignmentgroup\": \"True\", \"hoverlabel\": {\"namelength\": 0}, \"hovertemplate\": \"Description=%{x}<br>Quantity=%{y}\", \"legendgroup\": \"Description=15CM CHRISTMAS GLASS BALL 20 LIGHTS\", \"marker\": {\"color\": \"#636efa\"}, \"name\": \"Description=15CM CHRISTMAS GLASS BALL 20 LIGHTS\", \"offsetgroup\": \"Description=15CM CHRISTMAS GLASS BALL 20 LIGHTS\", \"orientation\": \"v\", \"showlegend\": true, \"textposition\": \"auto\", \"type\": \"bar\", \"x\": [\"15CM CHRISTMAS GLASS BALL 20 LIGHTS\"], \"xaxis\": \"x\", \"y\": [1225], \"yaxis\": \"y\"}, {\"alignmentgroup\": \"True\", \"hoverlabel\": {\"namelength\": 0}, \"hovertemplate\": \"Description=%{x}<br>Quantity=%{y}\", \"legendgroup\": \"Description=16 PC CUTLERY SET PANTRY DESIGN\", \"marker\": {\"color\": \"#EF553B\"}, \"name\": \"Description=16 PC CUTLERY SET PANTRY DESIGN\", \"offsetgroup\": \"Description=16 PC CUTLERY SET PANTRY DESIGN\", \"orientation\": \"v\", \"showlegend\": true, \"textposition\": \"auto\", \"type\": \"bar\", \"x\": [\"16 PC CUTLERY SET PANTRY DESIGN\"], \"xaxis\": \"x\", \"y\": [4], \"yaxis\": \"y\"}, {\"alignmentgroup\": \"True\", \"hoverlabel\": {\"namelength\": 0}, \"hovertemplate\": \"Description=%{x}<br>Quantity=%{y}\", \"legendgroup\": \"Description=16 PIECE CUTLERY SET PANTRY DESIGN\", \"marker\": {\"color\": \"#00cc96\"}, \"name\": \"Description=16 PIECE CUTLERY SET PANTRY DESIGN\", \"offsetgroup\": \"Description=16 PIECE CUTLERY SET PANTRY DESIGN\", \"orientation\": \"v\", \"showlegend\": true, \"textposition\": \"auto\", \"type\": \"bar\", \"x\": [\"16 PIECE CUTLERY SET PANTRY DESIGN\"], \"xaxis\": \"x\", \"y\": [208], \"yaxis\": \"y\"}, {\"alignmentgroup\": \"True\", \"hoverlabel\": {\"namelength\": 0}, \"hovertemplate\": \"Description=%{x}<br>Quantity=%{y}\", \"legendgroup\": \"Description=18PC WOODEN CUTLERY SET DISPOSABLE\", \"marker\": {\"color\": \"#ab63fa\"}, \"name\": \"Description=18PC WOODEN CUTLERY SET DISPOSABLE\", \"offsetgroup\": \"Description=18PC WOODEN CUTLERY SET DISPOSABLE\", \"orientation\": \"v\", \"showlegend\": true, \"textposition\": \"auto\", \"type\": \"bar\", \"x\": [\"18PC WOODEN CUTLERY SET DISPOSABLE\"], \"xaxis\": \"x\", \"y\": [503], \"yaxis\": \"y\"}, {\"alignmentgroup\": \"True\", \"hoverlabel\": {\"namelength\": 0}, \"hovertemplate\": \"Description=%{x}<br>Quantity=%{y}\", \"legendgroup\": \"Description=2 DAISIES HAIR COMB\", \"marker\": {\"color\": \"#FFA15A\"}, \"name\": \"Description=2 DAISIES HAIR COMB\", \"offsetgroup\": \"Description=2 DAISIES HAIR COMB\", \"orientation\": \"v\", \"showlegend\": true, \"textposition\": \"auto\", \"type\": \"bar\", \"x\": [\"2 DAISIES HAIR COMB\"], \"xaxis\": \"x\", \"y\": [0], \"yaxis\": \"y\"}, {\"alignmentgroup\": \"True\", \"hoverlabel\": {\"namelength\": 0}, \"hovertemplate\": \"Description=%{x}<br>Quantity=%{y}\", \"legendgroup\": \"Description=2 PICTURE BOOK EGGS EASTER BUNNY\", \"marker\": {\"color\": \"#19d3f3\"}, \"name\": \"Description=2 PICTURE BOOK EGGS EASTER BUNNY\", \"offsetgroup\": \"Description=2 PICTURE BOOK EGGS EASTER BUNNY\", \"orientation\": \"v\", \"showlegend\": true, \"textposition\": \"auto\", \"type\": \"bar\", \"x\": [\"2 PICTURE BOOK EGGS EASTER BUNNY\"], \"xaxis\": \"x\", \"y\": [158], \"yaxis\": \"y\"}, {\"alignmentgroup\": \"True\", \"hoverlabel\": {\"namelength\": 0}, \"hovertemplate\": \"Description=%{x}<br>Quantity=%{y}\", \"legendgroup\": \"Description=2 PICTURE BOOK EGGS EASTER CHICKS\", \"marker\": {\"color\": \"#FF6692\"}, \"name\": \"Description=2 PICTURE BOOK EGGS EASTER CHICKS\", \"offsetgroup\": \"Description=2 PICTURE BOOK EGGS EASTER CHICKS\", \"orientation\": \"v\", \"showlegend\": true, \"textposition\": \"auto\", \"type\": \"bar\", \"x\": [\"2 PICTURE BOOK EGGS EASTER CHICKS\"], \"xaxis\": \"x\", \"y\": [160], \"yaxis\": \"y\"}, {\"alignmentgroup\": \"True\", \"hoverlabel\": {\"namelength\": 0}, \"hovertemplate\": \"Description=%{x}<br>Quantity=%{y}\", \"legendgroup\": \"Description=2 PICTURE BOOK EGGS EASTER DUCKS\", \"marker\": {\"color\": \"#B6E880\"}, \"name\": \"Description=2 PICTURE BOOK EGGS EASTER DUCKS\", \"offsetgroup\": \"Description=2 PICTURE BOOK EGGS EASTER DUCKS\", \"orientation\": \"v\", \"showlegend\": true, \"textposition\": \"auto\", \"type\": \"bar\", \"x\": [\"2 PICTURE BOOK EGGS EASTER DUCKS\"], \"xaxis\": \"x\", \"y\": [115], \"yaxis\": \"y\"}, {\"alignmentgroup\": \"True\", \"hoverlabel\": {\"namelength\": 0}, \"hovertemplate\": \"Description=%{x}<br>Quantity=%{y}\", \"legendgroup\": \"Description=20 DOLLY PEGS RETROSPOT\", \"marker\": {\"color\": \"#FF97FF\"}, \"name\": \"Description=20 DOLLY PEGS RETROSPOT\", \"offsetgroup\": \"Description=20 DOLLY PEGS RETROSPOT\", \"orientation\": \"v\", \"showlegend\": true, \"textposition\": \"auto\", \"type\": \"bar\", \"x\": [\"20 DOLLY PEGS RETROSPOT\"], \"xaxis\": \"x\", \"y\": [2352], \"yaxis\": \"y\"}, {\"alignmentgroup\": \"True\", \"hoverlabel\": {\"namelength\": 0}, \"hovertemplate\": \"Description=%{x}<br>Quantity=%{y}\", \"legendgroup\": \"Description=200 BENDY SKULL STRAWS\", \"marker\": {\"color\": \"#FECB52\"}, \"name\": \"Description=200 BENDY SKULL STRAWS\", \"offsetgroup\": \"Description=200 BENDY SKULL STRAWS\", \"orientation\": \"v\", \"showlegend\": true, \"textposition\": \"auto\", \"type\": \"bar\", \"x\": [\"200 BENDY SKULL STRAWS\"], \"xaxis\": \"x\", \"y\": [637], \"yaxis\": \"y\"}, {\"alignmentgroup\": \"True\", \"hoverlabel\": {\"namelength\": 0}, \"hovertemplate\": \"Description=%{x}<br>Quantity=%{y}\", \"legendgroup\": \"Description=200 RED + WHITE BENDY STRAWS\", \"marker\": {\"color\": \"#636efa\"}, \"name\": \"Description=200 RED + WHITE BENDY STRAWS\", \"offsetgroup\": \"Description=200 RED + WHITE BENDY STRAWS\", \"orientation\": \"v\", \"showlegend\": true, \"textposition\": \"auto\", \"type\": \"bar\", \"x\": [\"200 RED + WHITE BENDY STRAWS\"], \"xaxis\": \"x\", \"y\": [761], \"yaxis\": \"y\"}, {\"alignmentgroup\": \"True\", \"hoverlabel\": {\"namelength\": 0}, \"hovertemplate\": \"Description=%{x}<br>Quantity=%{y}\", \"legendgroup\": \"Description=3 BIRDS CANVAS SCREEN\", \"marker\": {\"color\": \"#EF553B\"}, \"name\": \"Description=3 BIRDS CANVAS SCREEN\", \"offsetgroup\": \"Description=3 BIRDS CANVAS SCREEN\", \"orientation\": \"v\", \"showlegend\": true, \"textposition\": \"auto\", \"type\": \"bar\", \"x\": [\"3 BIRDS CANVAS SCREEN\"], \"xaxis\": \"x\", \"y\": [2], \"yaxis\": \"y\"}, {\"alignmentgroup\": \"True\", \"hoverlabel\": {\"namelength\": 0}, \"hovertemplate\": \"Description=%{x}<br>Quantity=%{y}\", \"legendgroup\": \"Description=3 BLACK CATS W HEARTS BLANK CARD\", \"marker\": {\"color\": \"#00cc96\"}, \"name\": \"Description=3 BLACK CATS W HEARTS BLANK CARD\", \"offsetgroup\": \"Description=3 BLACK CATS W HEARTS BLANK CARD\", \"orientation\": \"v\", \"showlegend\": true, \"textposition\": \"auto\", \"type\": \"bar\", \"x\": [\"3 BLACK CATS W HEARTS BLANK CARD\"], \"xaxis\": \"x\", \"y\": [24], \"yaxis\": \"y\"}, {\"alignmentgroup\": \"True\", \"hoverlabel\": {\"namelength\": 0}, \"hovertemplate\": \"Description=%{x}<br>Quantity=%{y}\", \"legendgroup\": \"Description=3 DRAWER ANTIQUE WHITE WOOD CABINET\", \"marker\": {\"color\": \"#ab63fa\"}, \"name\": \"Description=3 DRAWER ANTIQUE WHITE WOOD CABINET\", \"offsetgroup\": \"Description=3 DRAWER ANTIQUE WHITE WOOD CABINET\", \"orientation\": \"v\", \"showlegend\": true, \"textposition\": \"auto\", \"type\": \"bar\", \"x\": [\"3 DRAWER ANTIQUE WHITE WOOD CABINET\"], \"xaxis\": \"x\", \"y\": [674], \"yaxis\": \"y\"}, {\"alignmentgroup\": \"True\", \"hoverlabel\": {\"namelength\": 0}, \"hovertemplate\": \"Description=%{x}<br>Quantity=%{y}\", \"legendgroup\": \"Description=3 GARDENIA MORRIS BOXED CANDLES\", \"marker\": {\"color\": \"#FFA15A\"}, \"name\": \"Description=3 GARDENIA MORRIS BOXED CANDLES\", \"offsetgroup\": \"Description=3 GARDENIA MORRIS BOXED CANDLES\", \"orientation\": \"v\", \"showlegend\": true, \"textposition\": \"auto\", \"type\": \"bar\", \"x\": [\"3 GARDENIA MORRIS BOXED CANDLES\"], \"xaxis\": \"x\", \"y\": [485], \"yaxis\": \"y\"}, {\"alignmentgroup\": \"True\", \"hoverlabel\": {\"namelength\": 0}, \"hovertemplate\": \"Description=%{x}<br>Quantity=%{y}\", \"legendgroup\": \"Description=3 HEARTS HANGING DECORATION RUSTIC\", \"marker\": {\"color\": \"#19d3f3\"}, \"name\": \"Description=3 HEARTS HANGING DECORATION RUSTIC\", \"offsetgroup\": \"Description=3 HEARTS HANGING DECORATION RUSTIC\", \"orientation\": \"v\", \"showlegend\": true, \"textposition\": \"auto\", \"type\": \"bar\", \"x\": [\"3 HEARTS HANGING DECORATION RUSTIC\"], \"xaxis\": \"x\", \"y\": [2870], \"yaxis\": \"y\"}, {\"alignmentgroup\": \"True\", \"hoverlabel\": {\"namelength\": 0}, \"hovertemplate\": \"Description=%{x}<br>Quantity=%{y}\", \"legendgroup\": \"Description=3 HOOK HANGER MAGIC GARDEN\", \"marker\": {\"color\": \"#FF6692\"}, \"name\": \"Description=3 HOOK HANGER MAGIC GARDEN\", \"offsetgroup\": \"Description=3 HOOK HANGER MAGIC GARDEN\", \"orientation\": \"v\", \"showlegend\": true, \"textposition\": \"auto\", \"type\": \"bar\", \"x\": [\"3 HOOK HANGER MAGIC GARDEN\"], \"xaxis\": \"x\", \"y\": [1601], \"yaxis\": \"y\"}, {\"alignmentgroup\": \"True\", \"hoverlabel\": {\"namelength\": 0}, \"hovertemplate\": \"Description=%{x}<br>Quantity=%{y}\", \"legendgroup\": \"Description=3 HOOK PHOTO SHELF ANTIQUE WHITE\", \"marker\": {\"color\": \"#B6E880\"}, \"name\": \"Description=3 HOOK PHOTO SHELF ANTIQUE WHITE\", \"offsetgroup\": \"Description=3 HOOK PHOTO SHELF ANTIQUE WHITE\", \"orientation\": \"v\", \"showlegend\": true, \"textposition\": \"auto\", \"type\": \"bar\", \"x\": [\"3 HOOK PHOTO SHELF ANTIQUE WHITE\"], \"xaxis\": \"x\", \"y\": [1611], \"yaxis\": \"y\"}, {\"alignmentgroup\": \"True\", \"hoverlabel\": {\"namelength\": 0}, \"hovertemplate\": \"Description=%{x}<br>Quantity=%{y}\", \"legendgroup\": \"Description=3 PIECE SPACEBOY COOKIE CUTTER SET\", \"marker\": {\"color\": \"#FF97FF\"}, \"name\": \"Description=3 PIECE SPACEBOY COOKIE CUTTER SET\", \"offsetgroup\": \"Description=3 PIECE SPACEBOY COOKIE CUTTER SET\", \"orientation\": \"v\", \"showlegend\": true, \"textposition\": \"auto\", \"type\": \"bar\", \"x\": [\"3 PIECE SPACEBOY COOKIE CUTTER SET\"], \"xaxis\": \"x\", \"y\": [2500], \"yaxis\": \"y\"}, {\"alignmentgroup\": \"True\", \"hoverlabel\": {\"namelength\": 0}, \"hovertemplate\": \"Description=%{x}<br>Quantity=%{y}\", \"legendgroup\": \"Description=3 PINK HEN+CHICKS IN BASKET\", \"marker\": {\"color\": \"#FECB52\"}, \"name\": \"Description=3 PINK HEN+CHICKS IN BASKET\", \"offsetgroup\": \"Description=3 PINK HEN+CHICKS IN BASKET\", \"orientation\": \"v\", \"showlegend\": true, \"textposition\": \"auto\", \"type\": \"bar\", \"x\": [\"3 PINK HEN+CHICKS IN BASKET\"], \"xaxis\": \"x\", \"y\": [12], \"yaxis\": \"y\"}, {\"alignmentgroup\": \"True\", \"hoverlabel\": {\"namelength\": 0}, \"hovertemplate\": \"Description=%{x}<br>Quantity=%{y}\", \"legendgroup\": \"Description=3 RAFFIA RIBBONS 50'S CHRISTMAS \", \"marker\": {\"color\": \"#636efa\"}, \"name\": \"Description=3 RAFFIA RIBBONS 50'S CHRISTMAS \", \"offsetgroup\": \"Description=3 RAFFIA RIBBONS 50'S CHRISTMAS \", \"orientation\": \"v\", \"showlegend\": true, \"textposition\": \"auto\", \"type\": \"bar\", \"x\": [\"3 RAFFIA RIBBONS 50'S CHRISTMAS \"], \"xaxis\": \"x\", \"y\": [1782], \"yaxis\": \"y\"}, {\"alignmentgroup\": \"True\", \"hoverlabel\": {\"namelength\": 0}, \"hovertemplate\": \"Description=%{x}<br>Quantity=%{y}\", \"legendgroup\": \"Description=3 RAFFIA RIBBONS VINTAGE CHRISTMAS\", \"marker\": {\"color\": \"#EF553B\"}, \"name\": \"Description=3 RAFFIA RIBBONS VINTAGE CHRISTMAS\", \"offsetgroup\": \"Description=3 RAFFIA RIBBONS VINTAGE CHRISTMAS\", \"orientation\": \"v\", \"showlegend\": true, \"textposition\": \"auto\", \"type\": \"bar\", \"x\": [\"3 RAFFIA RIBBONS VINTAGE CHRISTMAS\"], \"xaxis\": \"x\", \"y\": [679], \"yaxis\": \"y\"}, {\"alignmentgroup\": \"True\", \"hoverlabel\": {\"namelength\": 0}, \"hovertemplate\": \"Description=%{x}<br>Quantity=%{y}\", \"legendgroup\": \"Description=3 ROSE MORRIS BOXED CANDLES\", \"marker\": {\"color\": \"#00cc96\"}, \"name\": \"Description=3 ROSE MORRIS BOXED CANDLES\", \"offsetgroup\": \"Description=3 ROSE MORRIS BOXED CANDLES\", \"orientation\": \"v\", \"showlegend\": true, \"textposition\": \"auto\", \"type\": \"bar\", \"x\": [\"3 ROSE MORRIS BOXED CANDLES\"], \"xaxis\": \"x\", \"y\": [1052], \"yaxis\": \"y\"}, {\"alignmentgroup\": \"True\", \"hoverlabel\": {\"namelength\": 0}, \"hovertemplate\": \"Description=%{x}<br>Quantity=%{y}\", \"legendgroup\": \"Description=3 STRIPEY MICE FELTCRAFT\", \"marker\": {\"color\": \"#ab63fa\"}, \"name\": \"Description=3 STRIPEY MICE FELTCRAFT\", \"offsetgroup\": \"Description=3 STRIPEY MICE FELTCRAFT\", \"orientation\": \"v\", \"showlegend\": true, \"textposition\": \"auto\", \"type\": \"bar\", \"x\": [\"3 STRIPEY MICE FELTCRAFT\"], \"xaxis\": \"x\", \"y\": [2912], \"yaxis\": \"y\"}, {\"alignmentgroup\": \"True\", \"hoverlabel\": {\"namelength\": 0}, \"hovertemplate\": \"Description=%{x}<br>Quantity=%{y}\", \"legendgroup\": \"Description=3 TIER CAKE TIN GREEN AND CREAM\", \"marker\": {\"color\": \"#FFA15A\"}, \"name\": \"Description=3 TIER CAKE TIN GREEN AND CREAM\", \"offsetgroup\": \"Description=3 TIER CAKE TIN GREEN AND CREAM\", \"orientation\": \"v\", \"showlegend\": true, \"textposition\": \"auto\", \"type\": \"bar\", \"x\": [\"3 TIER CAKE TIN GREEN AND CREAM\"], \"xaxis\": \"x\", \"y\": [350], \"yaxis\": \"y\"}, {\"alignmentgroup\": \"True\", \"hoverlabel\": {\"namelength\": 0}, \"hovertemplate\": \"Description=%{x}<br>Quantity=%{y}\", \"legendgroup\": \"Description=3 TIER CAKE TIN RED AND CREAM\", \"marker\": {\"color\": \"#19d3f3\"}, \"name\": \"Description=3 TIER CAKE TIN RED AND CREAM\", \"offsetgroup\": \"Description=3 TIER CAKE TIN RED AND CREAM\", \"orientation\": \"v\", \"showlegend\": true, \"textposition\": \"auto\", \"type\": \"bar\", \"x\": [\"3 TIER CAKE TIN RED AND CREAM\"], \"xaxis\": \"x\", \"y\": [524], \"yaxis\": \"y\"}, {\"alignmentgroup\": \"True\", \"hoverlabel\": {\"namelength\": 0}, \"hovertemplate\": \"Description=%{x}<br>Quantity=%{y}\", \"legendgroup\": \"Description=3 TIER SWEETHEART GARDEN SHELF\", \"marker\": {\"color\": \"#FF6692\"}, \"name\": \"Description=3 TIER SWEETHEART GARDEN SHELF\", \"offsetgroup\": \"Description=3 TIER SWEETHEART GARDEN SHELF\", \"orientation\": \"v\", \"showlegend\": true, \"textposition\": \"auto\", \"type\": \"bar\", \"x\": [\"3 TIER SWEETHEART GARDEN SHELF\"], \"xaxis\": \"x\", \"y\": [54], \"yaxis\": \"y\"}, {\"alignmentgroup\": \"True\", \"hoverlabel\": {\"namelength\": 0}, \"hovertemplate\": \"Description=%{x}<br>Quantity=%{y}\", \"legendgroup\": \"Description=3 TRADITIONAL COOKIE CUTTERS  SET\", \"marker\": {\"color\": \"#B6E880\"}, \"name\": \"Description=3 TRADITIONAL COOKIE CUTTERS  SET\", \"offsetgroup\": \"Description=3 TRADITIONAL COOKIE CUTTERS  SET\", \"orientation\": \"v\", \"showlegend\": true, \"textposition\": \"auto\", \"type\": \"bar\", \"x\": [\"3 TRADITIONAL COOKIE CUTTERS  SET\"], \"xaxis\": \"x\", \"y\": [162], \"yaxis\": \"y\"}, {\"alignmentgroup\": \"True\", \"hoverlabel\": {\"namelength\": 0}, \"hovertemplate\": \"Description=%{x}<br>Quantity=%{y}\", \"legendgroup\": \"Description=3 TRADITIONAl BISCUIT CUTTERS  SET\", \"marker\": {\"color\": \"#FF97FF\"}, \"name\": \"Description=3 TRADITIONAl BISCUIT CUTTERS  SET\", \"offsetgroup\": \"Description=3 TRADITIONAl BISCUIT CUTTERS  SET\", \"orientation\": \"v\", \"showlegend\": true, \"textposition\": \"auto\", \"type\": \"bar\", \"x\": [\"3 TRADITIONAl BISCUIT CUTTERS  SET\"], \"xaxis\": \"x\", \"y\": [1130], \"yaxis\": \"y\"}, {\"alignmentgroup\": \"True\", \"hoverlabel\": {\"namelength\": 0}, \"hovertemplate\": \"Description=%{x}<br>Quantity=%{y}\", \"legendgroup\": \"Description=3 WHITE CHOC MORRIS BOXED CANDLES\", \"marker\": {\"color\": \"#FECB52\"}, \"name\": \"Description=3 WHITE CHOC MORRIS BOXED CANDLES\", \"offsetgroup\": \"Description=3 WHITE CHOC MORRIS BOXED CANDLES\", \"orientation\": \"v\", \"showlegend\": true, \"textposition\": \"auto\", \"type\": \"bar\", \"x\": [\"3 WHITE CHOC MORRIS BOXED CANDLES\"], \"xaxis\": \"x\", \"y\": [884], \"yaxis\": \"y\"}, {\"alignmentgroup\": \"True\", \"hoverlabel\": {\"namelength\": 0}, \"hovertemplate\": \"Description=%{x}<br>Quantity=%{y}\", \"legendgroup\": \"Description=3 WICK CHRISTMAS BRIAR CANDLE \", \"marker\": {\"color\": \"#636efa\"}, \"name\": \"Description=3 WICK CHRISTMAS BRIAR CANDLE \", \"offsetgroup\": \"Description=3 WICK CHRISTMAS BRIAR CANDLE \", \"orientation\": \"v\", \"showlegend\": true, \"textposition\": \"auto\", \"type\": \"bar\", \"x\": [\"3 WICK CHRISTMAS BRIAR CANDLE \"], \"xaxis\": \"x\", \"y\": [-2], \"yaxis\": \"y\"}, {\"alignmentgroup\": \"True\", \"hoverlabel\": {\"namelength\": 0}, \"hovertemplate\": \"Description=%{x}<br>Quantity=%{y}\", \"legendgroup\": \"Description=36 DOILIES DOLLY GIRL\", \"marker\": {\"color\": \"#EF553B\"}, \"name\": \"Description=36 DOILIES DOLLY GIRL\", \"offsetgroup\": \"Description=36 DOILIES DOLLY GIRL\", \"orientation\": \"v\", \"showlegend\": true, \"textposition\": \"auto\", \"type\": \"bar\", \"x\": [\"36 DOILIES DOLLY GIRL\"], \"xaxis\": \"x\", \"y\": [893], \"yaxis\": \"y\"}, {\"alignmentgroup\": \"True\", \"hoverlabel\": {\"namelength\": 0}, \"hovertemplate\": \"Description=%{x}<br>Quantity=%{y}\", \"legendgroup\": \"Description=36 DOILIES VINTAGE CHRISTMAS\", \"marker\": {\"color\": \"#00cc96\"}, \"name\": \"Description=36 DOILIES VINTAGE CHRISTMAS\", \"offsetgroup\": \"Description=36 DOILIES VINTAGE CHRISTMAS\", \"orientation\": \"v\", \"showlegend\": true, \"textposition\": \"auto\", \"type\": \"bar\", \"x\": [\"36 DOILIES VINTAGE CHRISTMAS\"], \"xaxis\": \"x\", \"y\": [4829], \"yaxis\": \"y\"}, {\"alignmentgroup\": \"True\", \"hoverlabel\": {\"namelength\": 0}, \"hovertemplate\": \"Description=%{x}<br>Quantity=%{y}\", \"legendgroup\": \"Description=36 FOIL HEART CAKE CASES\", \"marker\": {\"color\": \"#ab63fa\"}, \"name\": \"Description=36 FOIL HEART CAKE CASES\", \"offsetgroup\": \"Description=36 FOIL HEART CAKE CASES\", \"orientation\": \"v\", \"showlegend\": true, \"textposition\": \"auto\", \"type\": \"bar\", \"x\": [\"36 FOIL HEART CAKE CASES\"], \"xaxis\": \"x\", \"y\": [1851], \"yaxis\": \"y\"}, {\"alignmentgroup\": \"True\", \"hoverlabel\": {\"namelength\": 0}, \"hovertemplate\": \"Description=%{x}<br>Quantity=%{y}\", \"legendgroup\": \"Description=36 FOIL STAR CAKE CASES \", \"marker\": {\"color\": \"#FFA15A\"}, \"name\": \"Description=36 FOIL STAR CAKE CASES \", \"offsetgroup\": \"Description=36 FOIL STAR CAKE CASES \", \"orientation\": \"v\", \"showlegend\": true, \"textposition\": \"auto\", \"type\": \"bar\", \"x\": [\"36 FOIL STAR CAKE CASES \"], \"xaxis\": \"x\", \"y\": [1149], \"yaxis\": \"y\"}, {\"alignmentgroup\": \"True\", \"hoverlabel\": {\"namelength\": 0}, \"hovertemplate\": \"Description=%{x}<br>Quantity=%{y}\", \"legendgroup\": \"Description=36 PENCILS TUBE POSY\", \"marker\": {\"color\": \"#19d3f3\"}, \"name\": \"Description=36 PENCILS TUBE POSY\", \"offsetgroup\": \"Description=36 PENCILS TUBE POSY\", \"orientation\": \"v\", \"showlegend\": true, \"textposition\": \"auto\", \"type\": \"bar\", \"x\": [\"36 PENCILS TUBE POSY\"], \"xaxis\": \"x\", \"y\": [18], \"yaxis\": \"y\"}, {\"alignmentgroup\": \"True\", \"hoverlabel\": {\"namelength\": 0}, \"hovertemplate\": \"Description=%{x}<br>Quantity=%{y}\", \"legendgroup\": \"Description=36 PENCILS TUBE RED RETROSPOT\", \"marker\": {\"color\": \"#FF6692\"}, \"name\": \"Description=36 PENCILS TUBE RED RETROSPOT\", \"offsetgroup\": \"Description=36 PENCILS TUBE RED RETROSPOT\", \"orientation\": \"v\", \"showlegend\": true, \"textposition\": \"auto\", \"type\": \"bar\", \"x\": [\"36 PENCILS TUBE RED RETROSPOT\"], \"xaxis\": \"x\", \"y\": [3363], \"yaxis\": \"y\"}, {\"alignmentgroup\": \"True\", \"hoverlabel\": {\"namelength\": 0}, \"hovertemplate\": \"Description=%{x}<br>Quantity=%{y}\", \"legendgroup\": \"Description=36 PENCILS TUBE SKULLS\", \"marker\": {\"color\": \"#B6E880\"}, \"name\": \"Description=36 PENCILS TUBE SKULLS\", \"offsetgroup\": \"Description=36 PENCILS TUBE SKULLS\", \"orientation\": \"v\", \"showlegend\": true, \"textposition\": \"auto\", \"type\": \"bar\", \"x\": [\"36 PENCILS TUBE SKULLS\"], \"xaxis\": \"x\", \"y\": [1615], \"yaxis\": \"y\"}, {\"alignmentgroup\": \"True\", \"hoverlabel\": {\"namelength\": 0}, \"hovertemplate\": \"Description=%{x}<br>Quantity=%{y}\", \"legendgroup\": \"Description=36 PENCILS TUBE WOODLAND\", \"marker\": {\"color\": \"#FF97FF\"}, \"name\": \"Description=36 PENCILS TUBE WOODLAND\", \"offsetgroup\": \"Description=36 PENCILS TUBE WOODLAND\", \"orientation\": \"v\", \"showlegend\": true, \"textposition\": \"auto\", \"type\": \"bar\", \"x\": [\"36 PENCILS TUBE WOODLAND\"], \"xaxis\": \"x\", \"y\": [1522], \"yaxis\": \"y\"}, {\"alignmentgroup\": \"True\", \"hoverlabel\": {\"namelength\": 0}, \"hovertemplate\": \"Description=%{x}<br>Quantity=%{y}\", \"legendgroup\": \"Description=3D CHRISTMAS STAMPS STICKERS \", \"marker\": {\"color\": \"#FECB52\"}, \"name\": \"Description=3D CHRISTMAS STAMPS STICKERS \", \"offsetgroup\": \"Description=3D CHRISTMAS STAMPS STICKERS \", \"orientation\": \"v\", \"showlegend\": true, \"textposition\": \"auto\", \"type\": \"bar\", \"x\": [\"3D CHRISTMAS STAMPS STICKERS \"], \"xaxis\": \"x\", \"y\": [1061], \"yaxis\": \"y\"}, {\"alignmentgroup\": \"True\", \"hoverlabel\": {\"namelength\": 0}, \"hovertemplate\": \"Description=%{x}<br>Quantity=%{y}\", \"legendgroup\": \"Description=3D DOG PICTURE PLAYING CARDS\", \"marker\": {\"color\": \"#636efa\"}, \"name\": \"Description=3D DOG PICTURE PLAYING CARDS\", \"offsetgroup\": \"Description=3D DOG PICTURE PLAYING CARDS\", \"orientation\": \"v\", \"showlegend\": true, \"textposition\": \"auto\", \"type\": \"bar\", \"x\": [\"3D DOG PICTURE PLAYING CARDS\"], \"xaxis\": \"x\", \"y\": [293], \"yaxis\": \"y\"}, {\"alignmentgroup\": \"True\", \"hoverlabel\": {\"namelength\": 0}, \"hovertemplate\": \"Description=%{x}<br>Quantity=%{y}\", \"legendgroup\": \"Description=3D HEARTS  HONEYCOMB PAPER GARLAND\", \"marker\": {\"color\": \"#EF553B\"}, \"name\": \"Description=3D HEARTS  HONEYCOMB PAPER GARLAND\", \"offsetgroup\": \"Description=3D HEARTS  HONEYCOMB PAPER GARLAND\", \"orientation\": \"v\", \"showlegend\": true, \"textposition\": \"auto\", \"type\": \"bar\", \"x\": [\"3D HEARTS  HONEYCOMB PAPER GARLAND\"], \"xaxis\": \"x\", \"y\": [294], \"yaxis\": \"y\"}, {\"alignmentgroup\": \"True\", \"hoverlabel\": {\"namelength\": 0}, \"hovertemplate\": \"Description=%{x}<br>Quantity=%{y}\", \"legendgroup\": \"Description=3D SHEET OF CAT STICKERS\", \"marker\": {\"color\": \"#00cc96\"}, \"name\": \"Description=3D SHEET OF CAT STICKERS\", \"offsetgroup\": \"Description=3D SHEET OF CAT STICKERS\", \"orientation\": \"v\", \"showlegend\": true, \"textposition\": \"auto\", \"type\": \"bar\", \"x\": [\"3D SHEET OF CAT STICKERS\"], \"xaxis\": \"x\", \"y\": [212], \"yaxis\": \"y\"}, {\"alignmentgroup\": \"True\", \"hoverlabel\": {\"namelength\": 0}, \"hovertemplate\": \"Description=%{x}<br>Quantity=%{y}\", \"legendgroup\": \"Description=3D SHEET OF DOG STICKERS\", \"marker\": {\"color\": \"#ab63fa\"}, \"name\": \"Description=3D SHEET OF DOG STICKERS\", \"offsetgroup\": \"Description=3D SHEET OF DOG STICKERS\", \"orientation\": \"v\", \"showlegend\": true, \"textposition\": \"auto\", \"type\": \"bar\", \"x\": [\"3D SHEET OF DOG STICKERS\"], \"xaxis\": \"x\", \"y\": [272], \"yaxis\": \"y\"}, {\"alignmentgroup\": \"True\", \"hoverlabel\": {\"namelength\": 0}, \"hovertemplate\": \"Description=%{x}<br>Quantity=%{y}\", \"legendgroup\": \"Description=3D TRADITIONAL CHRISTMAS STICKERS\", \"marker\": {\"color\": \"#FFA15A\"}, \"name\": \"Description=3D TRADITIONAL CHRISTMAS STICKERS\", \"offsetgroup\": \"Description=3D TRADITIONAL CHRISTMAS STICKERS\", \"orientation\": \"v\", \"showlegend\": true, \"textposition\": \"auto\", \"type\": \"bar\", \"x\": [\"3D TRADITIONAL CHRISTMAS STICKERS\"], \"xaxis\": \"x\", \"y\": [1471], \"yaxis\": \"y\"}, {\"alignmentgroup\": \"True\", \"hoverlabel\": {\"namelength\": 0}, \"hovertemplate\": \"Description=%{x}<br>Quantity=%{y}\", \"legendgroup\": \"Description=3D VINTAGE CHRISTMAS STICKERS \", \"marker\": {\"color\": \"#19d3f3\"}, \"name\": \"Description=3D VINTAGE CHRISTMAS STICKERS \", \"offsetgroup\": \"Description=3D VINTAGE CHRISTMAS STICKERS \", \"orientation\": \"v\", \"showlegend\": true, \"textposition\": \"auto\", \"type\": \"bar\", \"x\": [\"3D VINTAGE CHRISTMAS STICKERS \"], \"xaxis\": \"x\", \"y\": [1522], \"yaxis\": \"y\"}, {\"alignmentgroup\": \"True\", \"hoverlabel\": {\"namelength\": 0}, \"hovertemplate\": \"Description=%{x}<br>Quantity=%{y}\", \"legendgroup\": \"Description=4 BLUE DINNER CANDLES SILVER FLOCK\", \"marker\": {\"color\": \"#FF6692\"}, \"name\": \"Description=4 BLUE DINNER CANDLES SILVER FLOCK\", \"offsetgroup\": \"Description=4 BLUE DINNER CANDLES SILVER FLOCK\", \"orientation\": \"v\", \"showlegend\": true, \"textposition\": \"auto\", \"type\": \"bar\", \"x\": [\"4 BLUE DINNER CANDLES SILVER FLOCK\"], \"xaxis\": \"x\", \"y\": [86], \"yaxis\": \"y\"}, {\"alignmentgroup\": \"True\", \"hoverlabel\": {\"namelength\": 0}, \"hovertemplate\": \"Description=%{x}<br>Quantity=%{y}\", \"legendgroup\": \"Description=4 BURGUNDY WINE DINNER CANDLES\", \"marker\": {\"color\": \"#B6E880\"}, \"name\": \"Description=4 BURGUNDY WINE DINNER CANDLES\", \"offsetgroup\": \"Description=4 BURGUNDY WINE DINNER CANDLES\", \"orientation\": \"v\", \"showlegend\": true, \"textposition\": \"auto\", \"type\": \"bar\", \"x\": [\"4 BURGUNDY WINE DINNER CANDLES\"], \"xaxis\": \"x\", \"y\": [55], \"yaxis\": \"y\"}, {\"alignmentgroup\": \"True\", \"hoverlabel\": {\"namelength\": 0}, \"hovertemplate\": \"Description=%{x}<br>Quantity=%{y}\", \"legendgroup\": \"Description=4 IVORY DINNER CANDLES SILVER FLOCK\", \"marker\": {\"color\": \"#FF97FF\"}, \"name\": \"Description=4 IVORY DINNER CANDLES SILVER FLOCK\", \"offsetgroup\": \"Description=4 IVORY DINNER CANDLES SILVER FLOCK\", \"orientation\": \"v\", \"showlegend\": true, \"textposition\": \"auto\", \"type\": \"bar\", \"x\": [\"4 IVORY DINNER CANDLES SILVER FLOCK\"], \"xaxis\": \"x\", \"y\": [453], \"yaxis\": \"y\"}, {\"alignmentgroup\": \"True\", \"hoverlabel\": {\"namelength\": 0}, \"hovertemplate\": \"Description=%{x}<br>Quantity=%{y}\", \"legendgroup\": \"Description=4 LAVENDER BOTANICAL DINNER CANDLES\", \"marker\": {\"color\": \"#FECB52\"}, \"name\": \"Description=4 LAVENDER BOTANICAL DINNER CANDLES\", \"offsetgroup\": \"Description=4 LAVENDER BOTANICAL DINNER CANDLES\", \"orientation\": \"v\", \"showlegend\": true, \"textposition\": \"auto\", \"type\": \"bar\", \"x\": [\"4 LAVENDER BOTANICAL DINNER CANDLES\"], \"xaxis\": \"x\", \"y\": [840], \"yaxis\": \"y\"}, {\"alignmentgroup\": \"True\", \"hoverlabel\": {\"namelength\": 0}, \"hovertemplate\": \"Description=%{x}<br>Quantity=%{y}\", \"legendgroup\": \"Description=4 LILY  BOTANICAL DINNER CANDLES\", \"marker\": {\"color\": \"#636efa\"}, \"name\": \"Description=4 LILY  BOTANICAL DINNER CANDLES\", \"offsetgroup\": \"Description=4 LILY  BOTANICAL DINNER CANDLES\", \"orientation\": \"v\", \"showlegend\": true, \"textposition\": \"auto\", \"type\": \"bar\", \"x\": [\"4 LILY  BOTANICAL DINNER CANDLES\"], \"xaxis\": \"x\", \"y\": [473], \"yaxis\": \"y\"}, {\"alignmentgroup\": \"True\", \"hoverlabel\": {\"namelength\": 0}, \"hovertemplate\": \"Description=%{x}<br>Quantity=%{y}\", \"legendgroup\": \"Description=4 PEAR BOTANICAL DINNER CANDLES\", \"marker\": {\"color\": \"#EF553B\"}, \"name\": \"Description=4 PEAR BOTANICAL DINNER CANDLES\", \"offsetgroup\": \"Description=4 PEAR BOTANICAL DINNER CANDLES\", \"orientation\": \"v\", \"showlegend\": true, \"textposition\": \"auto\", \"type\": \"bar\", \"x\": [\"4 PEAR BOTANICAL DINNER CANDLES\"], \"xaxis\": \"x\", \"y\": [755], \"yaxis\": \"y\"}, {\"alignmentgroup\": \"True\", \"hoverlabel\": {\"namelength\": 0}, \"hovertemplate\": \"Description=%{x}<br>Quantity=%{y}\", \"legendgroup\": \"Description=4 PINK DINNER CANDLE SILVER FLOCK\", \"marker\": {\"color\": \"#00cc96\"}, \"name\": \"Description=4 PINK DINNER CANDLE SILVER FLOCK\", \"offsetgroup\": \"Description=4 PINK DINNER CANDLE SILVER FLOCK\", \"orientation\": \"v\", \"showlegend\": true, \"textposition\": \"auto\", \"type\": \"bar\", \"x\": [\"4 PINK DINNER CANDLE SILVER FLOCK\"], \"xaxis\": \"x\", \"y\": [126], \"yaxis\": \"y\"}, {\"alignmentgroup\": \"True\", \"hoverlabel\": {\"namelength\": 0}, \"hovertemplate\": \"Description=%{x}<br>Quantity=%{y}\", \"legendgroup\": \"Description=4 PINK FLOCK CHRISTMAS BALLS\", \"marker\": {\"color\": \"#ab63fa\"}, \"name\": \"Description=4 PINK FLOCK CHRISTMAS BALLS\", \"offsetgroup\": \"Description=4 PINK FLOCK CHRISTMAS BALLS\", \"orientation\": \"v\", \"showlegend\": true, \"textposition\": \"auto\", \"type\": \"bar\", \"x\": [\"4 PINK FLOCK CHRISTMAS BALLS\"], \"xaxis\": \"x\", \"y\": [37], \"yaxis\": \"y\"}, {\"alignmentgroup\": \"True\", \"hoverlabel\": {\"namelength\": 0}, \"hovertemplate\": \"Description=%{x}<br>Quantity=%{y}\", \"legendgroup\": \"Description=4 ROSE PINK DINNER CANDLES\", \"marker\": {\"color\": \"#FFA15A\"}, \"name\": \"Description=4 ROSE PINK DINNER CANDLES\", \"offsetgroup\": \"Description=4 ROSE PINK DINNER CANDLES\", \"orientation\": \"v\", \"showlegend\": true, \"textposition\": \"auto\", \"type\": \"bar\", \"x\": [\"4 ROSE PINK DINNER CANDLES\"], \"xaxis\": \"x\", \"y\": [138], \"yaxis\": \"y\"}, {\"alignmentgroup\": \"True\", \"hoverlabel\": {\"namelength\": 0}, \"hovertemplate\": \"Description=%{x}<br>Quantity=%{y}\", \"legendgroup\": \"Description=4 SKY BLUE DINNER CANDLES\", \"marker\": {\"color\": \"#19d3f3\"}, \"name\": \"Description=4 SKY BLUE DINNER CANDLES\", \"offsetgroup\": \"Description=4 SKY BLUE DINNER CANDLES\", \"orientation\": \"v\", \"showlegend\": true, \"textposition\": \"auto\", \"type\": \"bar\", \"x\": [\"4 SKY BLUE DINNER CANDLES\"], \"xaxis\": \"x\", \"y\": [58], \"yaxis\": \"y\"}, {\"alignmentgroup\": \"True\", \"hoverlabel\": {\"namelength\": 0}, \"hovertemplate\": \"Description=%{x}<br>Quantity=%{y}\", \"legendgroup\": \"Description=4 TRADITIONAL SPINNING TOPS\", \"marker\": {\"color\": \"#FF6692\"}, \"name\": \"Description=4 TRADITIONAL SPINNING TOPS\", \"offsetgroup\": \"Description=4 TRADITIONAL SPINNING TOPS\", \"orientation\": \"v\", \"showlegend\": true, \"textposition\": \"auto\", \"type\": \"bar\", \"x\": [\"4 TRADITIONAL SPINNING TOPS\"], \"xaxis\": \"x\", \"y\": [4489], \"yaxis\": \"y\"}, {\"alignmentgroup\": \"True\", \"hoverlabel\": {\"namelength\": 0}, \"hovertemplate\": \"Description=%{x}<br>Quantity=%{y}\", \"legendgroup\": \"Description=4 VANILLA BOTANICAL CANDLES\", \"marker\": {\"color\": \"#B6E880\"}, \"name\": \"Description=4 VANILLA BOTANICAL CANDLES\", \"offsetgroup\": \"Description=4 VANILLA BOTANICAL CANDLES\", \"orientation\": \"v\", \"showlegend\": true, \"textposition\": \"auto\", \"type\": \"bar\", \"x\": [\"4 VANILLA BOTANICAL CANDLES\"], \"xaxis\": \"x\", \"y\": [900], \"yaxis\": \"y\"}, {\"alignmentgroup\": \"True\", \"hoverlabel\": {\"namelength\": 0}, \"hovertemplate\": \"Description=%{x}<br>Quantity=%{y}\", \"legendgroup\": \"Description=4 WILDFLOWER BOTANICAL CANDLES\", \"marker\": {\"color\": \"#FF97FF\"}, \"name\": \"Description=4 WILDFLOWER BOTANICAL CANDLES\", \"offsetgroup\": \"Description=4 WILDFLOWER BOTANICAL CANDLES\", \"orientation\": \"v\", \"showlegend\": true, \"textposition\": \"auto\", \"type\": \"bar\", \"x\": [\"4 WILDFLOWER BOTANICAL CANDLES\"], \"xaxis\": \"x\", \"y\": [303], \"yaxis\": \"y\"}, {\"alignmentgroup\": \"True\", \"hoverlabel\": {\"namelength\": 0}, \"hovertemplate\": \"Description=%{x}<br>Quantity=%{y}\", \"legendgroup\": \"Description=5 HOOK HANGER MAGIC TOADSTOOL\", \"marker\": {\"color\": \"#FECB52\"}, \"name\": \"Description=5 HOOK HANGER MAGIC TOADSTOOL\", \"offsetgroup\": \"Description=5 HOOK HANGER MAGIC TOADSTOOL\", \"orientation\": \"v\", \"showlegend\": true, \"textposition\": \"auto\", \"type\": \"bar\", \"x\": [\"5 HOOK HANGER MAGIC TOADSTOOL\"], \"xaxis\": \"x\", \"y\": [597], \"yaxis\": \"y\"}, {\"alignmentgroup\": \"True\", \"hoverlabel\": {\"namelength\": 0}, \"hovertemplate\": \"Description=%{x}<br>Quantity=%{y}\", \"legendgroup\": \"Description=5 HOOK HANGER RED MAGIC TOADSTOOL\", \"marker\": {\"color\": \"#636efa\"}, \"name\": \"Description=5 HOOK HANGER RED MAGIC TOADSTOOL\", \"offsetgroup\": \"Description=5 HOOK HANGER RED MAGIC TOADSTOOL\", \"orientation\": \"v\", \"showlegend\": true, \"textposition\": \"auto\", \"type\": \"bar\", \"x\": [\"5 HOOK HANGER RED MAGIC TOADSTOOL\"], \"xaxis\": \"x\", \"y\": [3044], \"yaxis\": \"y\"}, {\"alignmentgroup\": \"True\", \"hoverlabel\": {\"namelength\": 0}, \"hovertemplate\": \"Description=%{x}<br>Quantity=%{y}\", \"legendgroup\": \"Description=5 STRAND GLASS NECKLACE AMBER\", \"marker\": {\"color\": \"#EF553B\"}, \"name\": \"Description=5 STRAND GLASS NECKLACE AMBER\", \"offsetgroup\": \"Description=5 STRAND GLASS NECKLACE AMBER\", \"orientation\": \"v\", \"showlegend\": true, \"textposition\": \"auto\", \"type\": \"bar\", \"x\": [\"5 STRAND GLASS NECKLACE AMBER\"], \"xaxis\": \"x\", \"y\": [2], \"yaxis\": \"y\"}, {\"alignmentgroup\": \"True\", \"hoverlabel\": {\"namelength\": 0}, \"hovertemplate\": \"Description=%{x}<br>Quantity=%{y}\", \"legendgroup\": \"Description=5 STRAND GLASS NECKLACE AMETHYST\", \"marker\": {\"color\": \"#00cc96\"}, \"name\": \"Description=5 STRAND GLASS NECKLACE AMETHYST\", \"offsetgroup\": \"Description=5 STRAND GLASS NECKLACE AMETHYST\", \"orientation\": \"v\", \"showlegend\": true, \"textposition\": \"auto\", \"type\": \"bar\", \"x\": [\"5 STRAND GLASS NECKLACE AMETHYST\"], \"xaxis\": \"x\", \"y\": [2], \"yaxis\": \"y\"}, {\"alignmentgroup\": \"True\", \"hoverlabel\": {\"namelength\": 0}, \"hovertemplate\": \"Description=%{x}<br>Quantity=%{y}\", \"legendgroup\": \"Description=5 STRAND GLASS NECKLACE BLACK\", \"marker\": {\"color\": \"#ab63fa\"}, \"name\": \"Description=5 STRAND GLASS NECKLACE BLACK\", \"offsetgroup\": \"Description=5 STRAND GLASS NECKLACE BLACK\", \"orientation\": \"v\", \"showlegend\": true, \"textposition\": \"auto\", \"type\": \"bar\", \"x\": [\"5 STRAND GLASS NECKLACE BLACK\"], \"xaxis\": \"x\", \"y\": [8], \"yaxis\": \"y\"}, {\"alignmentgroup\": \"True\", \"hoverlabel\": {\"namelength\": 0}, \"hovertemplate\": \"Description=%{x}<br>Quantity=%{y}\", \"legendgroup\": \"Description=5 STRAND GLASS NECKLACE CRYSTAL\", \"marker\": {\"color\": \"#FFA15A\"}, \"name\": \"Description=5 STRAND GLASS NECKLACE CRYSTAL\", \"offsetgroup\": \"Description=5 STRAND GLASS NECKLACE CRYSTAL\", \"orientation\": \"v\", \"showlegend\": true, \"textposition\": \"auto\", \"type\": \"bar\", \"x\": [\"5 STRAND GLASS NECKLACE CRYSTAL\"], \"xaxis\": \"x\", \"y\": [15], \"yaxis\": \"y\"}, {\"alignmentgroup\": \"True\", \"hoverlabel\": {\"namelength\": 0}, \"hovertemplate\": \"Description=%{x}<br>Quantity=%{y}\", \"legendgroup\": \"Description=50'S CHRISTMAS PAPER GIFT BAG\", \"marker\": {\"color\": \"#19d3f3\"}, \"name\": \"Description=50'S CHRISTMAS PAPER GIFT BAG\", \"offsetgroup\": \"Description=50'S CHRISTMAS PAPER GIFT BAG\", \"orientation\": \"v\", \"showlegend\": true, \"textposition\": \"auto\", \"type\": \"bar\", \"x\": [\"50'S CHRISTMAS PAPER GIFT BAG\"], \"xaxis\": \"x\", \"y\": [1326], \"yaxis\": \"y\"}, {\"alignmentgroup\": \"True\", \"hoverlabel\": {\"namelength\": 0}, \"hovertemplate\": \"Description=%{x}<br>Quantity=%{y}\", \"legendgroup\": \"Description=50CM METAL STRING WITH  7 CLIPS\", \"marker\": {\"color\": \"#FF6692\"}, \"name\": \"Description=50CM METAL STRING WITH  7 CLIPS\", \"offsetgroup\": \"Description=50CM METAL STRING WITH  7 CLIPS\", \"orientation\": \"v\", \"showlegend\": true, \"textposition\": \"auto\", \"type\": \"bar\", \"x\": [\"50CM METAL STRING WITH  7 CLIPS\"], \"xaxis\": \"x\", \"y\": [222], \"yaxis\": \"y\"}, {\"alignmentgroup\": \"True\", \"hoverlabel\": {\"namelength\": 0}, \"hovertemplate\": \"Description=%{x}<br>Quantity=%{y}\", \"legendgroup\": \"Description=6 CHOCOLATE LOVE HEART T-LIGHTS\", \"marker\": {\"color\": \"#B6E880\"}, \"name\": \"Description=6 CHOCOLATE LOVE HEART T-LIGHTS\", \"offsetgroup\": \"Description=6 CHOCOLATE LOVE HEART T-LIGHTS\", \"orientation\": \"v\", \"showlegend\": true, \"textposition\": \"auto\", \"type\": \"bar\", \"x\": [\"6 CHOCOLATE LOVE HEART T-LIGHTS\"], \"xaxis\": \"x\", \"y\": [1018], \"yaxis\": \"y\"}, {\"alignmentgroup\": \"True\", \"hoverlabel\": {\"namelength\": 0}, \"hovertemplate\": \"Description=%{x}<br>Quantity=%{y}\", \"legendgroup\": \"Description=6 EGG HOUSE PAINTED WOOD\", \"marker\": {\"color\": \"#FF97FF\"}, \"name\": \"Description=6 EGG HOUSE PAINTED WOOD\", \"offsetgroup\": \"Description=6 EGG HOUSE PAINTED WOOD\", \"orientation\": \"v\", \"showlegend\": true, \"textposition\": \"auto\", \"type\": \"bar\", \"x\": [\"6 EGG HOUSE PAINTED WOOD\"], \"xaxis\": \"x\", \"y\": [254], \"yaxis\": \"y\"}, {\"alignmentgroup\": \"True\", \"hoverlabel\": {\"namelength\": 0}, \"hovertemplate\": \"Description=%{x}<br>Quantity=%{y}\", \"legendgroup\": \"Description=6 GIFT TAGS 50'S CHRISTMAS \", \"marker\": {\"color\": \"#FECB52\"}, \"name\": \"Description=6 GIFT TAGS 50'S CHRISTMAS \", \"offsetgroup\": \"Description=6 GIFT TAGS 50'S CHRISTMAS \", \"orientation\": \"v\", \"showlegend\": true, \"textposition\": \"auto\", \"type\": \"bar\", \"x\": [\"6 GIFT TAGS 50'S CHRISTMAS \"], \"xaxis\": \"x\", \"y\": [3298], \"yaxis\": \"y\"}],\n",
              "                        {\"barmode\": \"relative\", \"legend\": {\"tracegroupgap\": 0}, \"margin\": {\"t\": 60}, \"template\": {\"data\": {\"bar\": [{\"error_x\": {\"color\": \"#2a3f5f\"}, \"error_y\": {\"color\": \"#2a3f5f\"}, \"marker\": {\"line\": {\"color\": \"#E5ECF6\", \"width\": 0.5}}, \"type\": \"bar\"}], \"barpolar\": [{\"marker\": {\"line\": {\"color\": \"#E5ECF6\", \"width\": 0.5}}, \"type\": \"barpolar\"}], \"carpet\": [{\"aaxis\": {\"endlinecolor\": \"#2a3f5f\", \"gridcolor\": \"white\", \"linecolor\": \"white\", \"minorgridcolor\": \"white\", \"startlinecolor\": \"#2a3f5f\"}, \"baxis\": {\"endlinecolor\": \"#2a3f5f\", \"gridcolor\": \"white\", \"linecolor\": \"white\", \"minorgridcolor\": \"white\", \"startlinecolor\": \"#2a3f5f\"}, \"type\": \"carpet\"}], \"choropleth\": [{\"colorbar\": {\"outlinewidth\": 0, \"ticks\": \"\"}, \"type\": \"choropleth\"}], \"contour\": [{\"colorbar\": {\"outlinewidth\": 0, \"ticks\": \"\"}, \"colorscale\": [[0.0, \"#0d0887\"], [0.1111111111111111, \"#46039f\"], [0.2222222222222222, \"#7201a8\"], [0.3333333333333333, \"#9c179e\"], [0.4444444444444444, \"#bd3786\"], [0.5555555555555556, \"#d8576b\"], [0.6666666666666666, \"#ed7953\"], [0.7777777777777778, \"#fb9f3a\"], [0.8888888888888888, \"#fdca26\"], [1.0, \"#f0f921\"]], \"type\": \"contour\"}], \"contourcarpet\": [{\"colorbar\": {\"outlinewidth\": 0, \"ticks\": \"\"}, \"type\": \"contourcarpet\"}], \"heatmap\": [{\"colorbar\": {\"outlinewidth\": 0, \"ticks\": \"\"}, \"colorscale\": [[0.0, \"#0d0887\"], [0.1111111111111111, \"#46039f\"], [0.2222222222222222, \"#7201a8\"], [0.3333333333333333, \"#9c179e\"], [0.4444444444444444, \"#bd3786\"], [0.5555555555555556, \"#d8576b\"], [0.6666666666666666, \"#ed7953\"], [0.7777777777777778, \"#fb9f3a\"], [0.8888888888888888, \"#fdca26\"], [1.0, \"#f0f921\"]], \"type\": \"heatmap\"}], \"heatmapgl\": [{\"colorbar\": {\"outlinewidth\": 0, \"ticks\": \"\"}, \"colorscale\": [[0.0, \"#0d0887\"], [0.1111111111111111, \"#46039f\"], [0.2222222222222222, \"#7201a8\"], [0.3333333333333333, \"#9c179e\"], [0.4444444444444444, \"#bd3786\"], [0.5555555555555556, \"#d8576b\"], [0.6666666666666666, \"#ed7953\"], [0.7777777777777778, \"#fb9f3a\"], [0.8888888888888888, \"#fdca26\"], [1.0, \"#f0f921\"]], \"type\": \"heatmapgl\"}], \"histogram\": [{\"marker\": {\"colorbar\": {\"outlinewidth\": 0, \"ticks\": \"\"}}, \"type\": \"histogram\"}], \"histogram2d\": [{\"colorbar\": {\"outlinewidth\": 0, \"ticks\": \"\"}, \"colorscale\": [[0.0, \"#0d0887\"], [0.1111111111111111, \"#46039f\"], [0.2222222222222222, \"#7201a8\"], [0.3333333333333333, \"#9c179e\"], [0.4444444444444444, \"#bd3786\"], [0.5555555555555556, \"#d8576b\"], [0.6666666666666666, \"#ed7953\"], [0.7777777777777778, \"#fb9f3a\"], [0.8888888888888888, \"#fdca26\"], [1.0, \"#f0f921\"]], \"type\": \"histogram2d\"}], \"histogram2dcontour\": [{\"colorbar\": {\"outlinewidth\": 0, \"ticks\": \"\"}, \"colorscale\": [[0.0, \"#0d0887\"], [0.1111111111111111, \"#46039f\"], [0.2222222222222222, \"#7201a8\"], [0.3333333333333333, \"#9c179e\"], [0.4444444444444444, \"#bd3786\"], [0.5555555555555556, \"#d8576b\"], [0.6666666666666666, \"#ed7953\"], [0.7777777777777778, \"#fb9f3a\"], [0.8888888888888888, \"#fdca26\"], [1.0, \"#f0f921\"]], \"type\": \"histogram2dcontour\"}], \"mesh3d\": [{\"colorbar\": {\"outlinewidth\": 0, \"ticks\": \"\"}, \"type\": \"mesh3d\"}], \"parcoords\": [{\"line\": {\"colorbar\": {\"outlinewidth\": 0, \"ticks\": \"\"}}, \"type\": \"parcoords\"}], \"pie\": [{\"automargin\": true, \"type\": \"pie\"}], \"scatter\": [{\"marker\": {\"colorbar\": {\"outlinewidth\": 0, \"ticks\": \"\"}}, \"type\": \"scatter\"}], \"scatter3d\": [{\"line\": {\"colorbar\": {\"outlinewidth\": 0, \"ticks\": \"\"}}, \"marker\": {\"colorbar\": {\"outlinewidth\": 0, \"ticks\": \"\"}}, \"type\": \"scatter3d\"}], \"scattercarpet\": [{\"marker\": {\"colorbar\": {\"outlinewidth\": 0, \"ticks\": \"\"}}, \"type\": \"scattercarpet\"}], \"scattergeo\": [{\"marker\": {\"colorbar\": {\"outlinewidth\": 0, \"ticks\": \"\"}}, \"type\": \"scattergeo\"}], \"scattergl\": [{\"marker\": {\"colorbar\": {\"outlinewidth\": 0, \"ticks\": \"\"}}, \"type\": \"scattergl\"}], \"scattermapbox\": [{\"marker\": {\"colorbar\": {\"outlinewidth\": 0, \"ticks\": \"\"}}, \"type\": \"scattermapbox\"}], \"scatterpolar\": [{\"marker\": {\"colorbar\": {\"outlinewidth\": 0, \"ticks\": \"\"}}, \"type\": \"scatterpolar\"}], \"scatterpolargl\": [{\"marker\": {\"colorbar\": {\"outlinewidth\": 0, \"ticks\": \"\"}}, \"type\": \"scatterpolargl\"}], \"scatterternary\": [{\"marker\": {\"colorbar\": {\"outlinewidth\": 0, \"ticks\": \"\"}}, \"type\": \"scatterternary\"}], \"surface\": [{\"colorbar\": {\"outlinewidth\": 0, \"ticks\": \"\"}, \"colorscale\": [[0.0, \"#0d0887\"], [0.1111111111111111, \"#46039f\"], [0.2222222222222222, \"#7201a8\"], [0.3333333333333333, \"#9c179e\"], [0.4444444444444444, \"#bd3786\"], [0.5555555555555556, \"#d8576b\"], [0.6666666666666666, \"#ed7953\"], [0.7777777777777778, \"#fb9f3a\"], [0.8888888888888888, \"#fdca26\"], [1.0, \"#f0f921\"]], \"type\": \"surface\"}], \"table\": [{\"cells\": {\"fill\": {\"color\": \"#EBF0F8\"}, \"line\": {\"color\": \"white\"}}, \"header\": {\"fill\": {\"color\": \"#C8D4E3\"}, \"line\": {\"color\": \"white\"}}, \"type\": \"table\"}]}, \"layout\": {\"annotationdefaults\": {\"arrowcolor\": \"#2a3f5f\", \"arrowhead\": 0, \"arrowwidth\": 1}, \"coloraxis\": {\"colorbar\": {\"outlinewidth\": 0, \"ticks\": \"\"}}, \"colorscale\": {\"diverging\": [[0, \"#8e0152\"], [0.1, \"#c51b7d\"], [0.2, \"#de77ae\"], [0.3, \"#f1b6da\"], [0.4, \"#fde0ef\"], [0.5, \"#f7f7f7\"], [0.6, \"#e6f5d0\"], [0.7, \"#b8e186\"], [0.8, \"#7fbc41\"], [0.9, \"#4d9221\"], [1, \"#276419\"]], \"sequential\": [[0.0, \"#0d0887\"], [0.1111111111111111, \"#46039f\"], [0.2222222222222222, \"#7201a8\"], [0.3333333333333333, \"#9c179e\"], [0.4444444444444444, \"#bd3786\"], [0.5555555555555556, \"#d8576b\"], [0.6666666666666666, \"#ed7953\"], [0.7777777777777778, \"#fb9f3a\"], [0.8888888888888888, \"#fdca26\"], [1.0, \"#f0f921\"]], \"sequentialminus\": [[0.0, \"#0d0887\"], [0.1111111111111111, \"#46039f\"], [0.2222222222222222, \"#7201a8\"], [0.3333333333333333, \"#9c179e\"], [0.4444444444444444, \"#bd3786\"], [0.5555555555555556, \"#d8576b\"], [0.6666666666666666, \"#ed7953\"], [0.7777777777777778, \"#fb9f3a\"], [0.8888888888888888, \"#fdca26\"], [1.0, \"#f0f921\"]]}, \"colorway\": [\"#636efa\", \"#EF553B\", \"#00cc96\", \"#ab63fa\", \"#FFA15A\", \"#19d3f3\", \"#FF6692\", \"#B6E880\", \"#FF97FF\", \"#FECB52\"], \"font\": {\"color\": \"#2a3f5f\"}, \"geo\": {\"bgcolor\": \"white\", \"lakecolor\": \"white\", \"landcolor\": \"#E5ECF6\", \"showlakes\": true, \"showland\": true, \"subunitcolor\": \"white\"}, \"hoverlabel\": {\"align\": \"left\"}, \"hovermode\": \"closest\", \"mapbox\": {\"style\": \"light\"}, \"paper_bgcolor\": \"white\", \"plot_bgcolor\": \"#E5ECF6\", \"polar\": {\"angularaxis\": {\"gridcolor\": \"white\", \"linecolor\": \"white\", \"ticks\": \"\"}, \"bgcolor\": \"#E5ECF6\", \"radialaxis\": {\"gridcolor\": \"white\", \"linecolor\": \"white\", \"ticks\": \"\"}}, \"scene\": {\"xaxis\": {\"backgroundcolor\": \"#E5ECF6\", \"gridcolor\": \"white\", \"gridwidth\": 2, \"linecolor\": \"white\", \"showbackground\": true, \"ticks\": \"\", \"zerolinecolor\": \"white\"}, \"yaxis\": {\"backgroundcolor\": \"#E5ECF6\", \"gridcolor\": \"white\", \"gridwidth\": 2, \"linecolor\": \"white\", \"showbackground\": true, \"ticks\": \"\", \"zerolinecolor\": \"white\"}, \"zaxis\": {\"backgroundcolor\": \"#E5ECF6\", \"gridcolor\": \"white\", \"gridwidth\": 2, \"linecolor\": \"white\", \"showbackground\": true, \"ticks\": \"\", \"zerolinecolor\": \"white\"}}, \"shapedefaults\": {\"line\": {\"color\": \"#2a3f5f\"}}, \"ternary\": {\"aaxis\": {\"gridcolor\": \"white\", \"linecolor\": \"white\", \"ticks\": \"\"}, \"baxis\": {\"gridcolor\": \"white\", \"linecolor\": \"white\", \"ticks\": \"\"}, \"bgcolor\": \"#E5ECF6\", \"caxis\": {\"gridcolor\": \"white\", \"linecolor\": \"white\", \"ticks\": \"\"}}, \"title\": {\"x\": 0.05}, \"xaxis\": {\"automargin\": true, \"gridcolor\": \"white\", \"linecolor\": \"white\", \"ticks\": \"\", \"title\": {\"standoff\": 15}, \"zerolinecolor\": \"white\", \"zerolinewidth\": 2}, \"yaxis\": {\"automargin\": true, \"gridcolor\": \"white\", \"linecolor\": \"white\", \"ticks\": \"\", \"title\": {\"standoff\": 15}, \"zerolinecolor\": \"white\", \"zerolinewidth\": 2}}}, \"xaxis\": {\"anchor\": \"y\", \"categoryarray\": [\" 4 PURPLE FLOCK DINNER CANDLES\", \" 50'S CHRISTMAS GIFT BAG LARGE\", \" DOLLY GIRL BEAKER\", \" I LOVE LONDON MINI BACKPACK\", \" I LOVE LONDON MINI RUCKSACK\", \" NINE DRAWER OFFICE TIDY\", \" OVAL WALL MIRROR DIAMANTE \", \" RED SPOT GIFT BAG LARGE\", \" SET 2 TEA TOWELS I LOVE LONDON \", \" SPACEBOY BABY GIFT SET\", \" TOADSTOOL BEDSIDE LIGHT \", \" TRELLIS COAT RACK\", \"10 COLOUR SPACEBOY PEN\", \"12 COLOURED PARTY BALLOONS\", \"12 DAISY PEGS IN WOOD BOX\", \"12 EGG HOUSE PAINTED WOOD\", \"12 HANGING EGGS HAND PAINTED\", \"12 IVORY ROSE PEG PLACE SETTINGS\", \"12 MESSAGE CARDS WITH ENVELOPES\", \"12 PENCIL SMALL TUBE WOODLAND\", \"12 PENCILS SMALL TUBE RED RETROSPOT\", \"12 PENCILS SMALL TUBE SKULL\", \"12 PENCILS TALL TUBE POSY\", \"12 PENCILS TALL TUBE RED RETROSPOT\", \"12 PENCILS TALL TUBE SKULLS\", \"12 PENCILS TALL TUBE WOODLAND\", \"12 PINK HEN+CHICKS IN BASKET\", \"12 PINK ROSE PEG PLACE SETTINGS\", \"12 RED ROSE PEG PLACE SETTINGS\", \"15 PINK FLUFFY CHICKS IN BOX\", \"15CM CHRISTMAS GLASS BALL 20 LIGHTS\", \"16 PC CUTLERY SET PANTRY DESIGN\", \"16 PIECE CUTLERY SET PANTRY DESIGN\", \"18PC WOODEN CUTLERY SET DISPOSABLE\", \"2 DAISIES HAIR COMB\", \"2 PICTURE BOOK EGGS EASTER BUNNY\", \"2 PICTURE BOOK EGGS EASTER CHICKS\", \"2 PICTURE BOOK EGGS EASTER DUCKS\", \"20 DOLLY PEGS RETROSPOT\", \"200 BENDY SKULL STRAWS\", \"200 RED + WHITE BENDY STRAWS\", \"3 BIRDS CANVAS SCREEN\", \"3 BLACK CATS W HEARTS BLANK CARD\", \"3 DRAWER ANTIQUE WHITE WOOD CABINET\", \"3 GARDENIA MORRIS BOXED CANDLES\", \"3 HEARTS HANGING DECORATION RUSTIC\", \"3 HOOK HANGER MAGIC GARDEN\", \"3 HOOK PHOTO SHELF ANTIQUE WHITE\", \"3 PIECE SPACEBOY COOKIE CUTTER SET\", \"3 PINK HEN+CHICKS IN BASKET\", \"3 RAFFIA RIBBONS 50'S CHRISTMAS \", \"3 RAFFIA RIBBONS VINTAGE CHRISTMAS\", \"3 ROSE MORRIS BOXED CANDLES\", \"3 STRIPEY MICE FELTCRAFT\", \"3 TIER CAKE TIN GREEN AND CREAM\", \"3 TIER CAKE TIN RED AND CREAM\", \"3 TIER SWEETHEART GARDEN SHELF\", \"3 TRADITIONAL COOKIE CUTTERS  SET\", \"3 TRADITIONAl BISCUIT CUTTERS  SET\", \"3 WHITE CHOC MORRIS BOXED CANDLES\", \"3 WICK CHRISTMAS BRIAR CANDLE \", \"36 DOILIES DOLLY GIRL\", \"36 DOILIES VINTAGE CHRISTMAS\", \"36 FOIL HEART CAKE CASES\", \"36 FOIL STAR CAKE CASES \", \"36 PENCILS TUBE POSY\", \"36 PENCILS TUBE RED RETROSPOT\", \"36 PENCILS TUBE SKULLS\", \"36 PENCILS TUBE WOODLAND\", \"3D CHRISTMAS STAMPS STICKERS \", \"3D DOG PICTURE PLAYING CARDS\", \"3D HEARTS  HONEYCOMB PAPER GARLAND\", \"3D SHEET OF CAT STICKERS\", \"3D SHEET OF DOG STICKERS\", \"3D TRADITIONAL CHRISTMAS STICKERS\", \"3D VINTAGE CHRISTMAS STICKERS \", \"4 BLUE DINNER CANDLES SILVER FLOCK\", \"4 BURGUNDY WINE DINNER CANDLES\", \"4 IVORY DINNER CANDLES SILVER FLOCK\", \"4 LAVENDER BOTANICAL DINNER CANDLES\", \"4 LILY  BOTANICAL DINNER CANDLES\", \"4 PEAR BOTANICAL DINNER CANDLES\", \"4 PINK DINNER CANDLE SILVER FLOCK\", \"4 PINK FLOCK CHRISTMAS BALLS\", \"4 ROSE PINK DINNER CANDLES\", \"4 SKY BLUE DINNER CANDLES\", \"4 TRADITIONAL SPINNING TOPS\", \"4 VANILLA BOTANICAL CANDLES\", \"4 WILDFLOWER BOTANICAL CANDLES\", \"5 HOOK HANGER MAGIC TOADSTOOL\", \"5 HOOK HANGER RED MAGIC TOADSTOOL\", \"5 STRAND GLASS NECKLACE AMBER\", \"5 STRAND GLASS NECKLACE AMETHYST\", \"5 STRAND GLASS NECKLACE BLACK\", \"5 STRAND GLASS NECKLACE CRYSTAL\", \"50'S CHRISTMAS PAPER GIFT BAG\", \"50CM METAL STRING WITH  7 CLIPS\", \"6 CHOCOLATE LOVE HEART T-LIGHTS\", \"6 EGG HOUSE PAINTED WOOD\", \"6 GIFT TAGS 50'S CHRISTMAS \"], \"categoryorder\": \"array\", \"domain\": [0.0, 1.0], \"title\": {\"text\": \"Description\"}}, \"yaxis\": {\"anchor\": \"x\", \"domain\": [0.0, 1.0], \"title\": {\"text\": \"Quantity\"}}},\n",
              "                        {\"responsive\": true}\n",
              "                    ).then(function(){\n",
              "                            \n",
              "var gd = document.getElementById('9f6c59a7-a3db-4a76-be95-89b5fe2d2251');\n",
              "var x = new MutationObserver(function (mutations, observer) {{\n",
              "        var display = window.getComputedStyle(gd).display;\n",
              "        if (!display || display === 'none') {{\n",
              "            console.log([gd, 'removed!']);\n",
              "            Plotly.purge(gd);\n",
              "            observer.disconnect();\n",
              "        }}\n",
              "}});\n",
              "\n",
              "// Listen for the removal of the full notebook cells\n",
              "var notebookContainer = gd.closest('#notebook-container');\n",
              "if (notebookContainer) {{\n",
              "    x.observe(notebookContainer, {childList: true});\n",
              "}}\n",
              "\n",
              "// Listen for the clearing of the current output cell\n",
              "var outputEl = gd.closest('.output');\n",
              "if (outputEl) {{\n",
              "    x.observe(outputEl, {childList: true});\n",
              "}}\n",
              "\n",
              "                        })\n",
              "                };\n",
              "                \n",
              "            </script>\n",
              "        </div>\n",
              "</body>\n",
              "</html>"
            ]
          },
          "metadata": {}
        }
      ]
    },
    {
      "cell_type": "code",
      "metadata": {
        "id": "U4pcsDBI2Lsx"
      },
      "source": [
        ""
      ],
      "execution_count": 108,
      "outputs": []
    },
    {
      "cell_type": "code",
      "metadata": {
        "id": "PMPgvQZG257k"
      },
      "source": [
        ""
      ],
      "execution_count": null,
      "outputs": []
    }
  ]
}